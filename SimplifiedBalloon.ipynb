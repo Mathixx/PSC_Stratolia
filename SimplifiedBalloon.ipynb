{
 "cells": [
  {
   "cell_type": "markdown",
   "metadata": {},
   "source": [
    "# 1. Import dependencies"
   ]
  },
  {
   "cell_type": "code",
   "execution_count": 2,
   "metadata": {},
   "outputs": [],
   "source": [
    "#Modules en lien avec Gym\n",
    "import gymnasium as gym\n",
    "\n",
    "#Modules utiles\n",
    "import sys\n",
    "sys.path.append('/Users/mathiasperez/Documents/GitHub/PSC_Stratolia/Algo Naif')\n",
    "from parcours import parcours_a_Z, distance_destination, case, ventU_ventV\n",
    "\n",
    "import os\n",
    "import numpy as np\n",
    "import random\n",
    "import os\n",
    "\n",
    "#Modules en lien avec Stable_baseline3\n",
    "#IMPORT THE TYPE OF AGENT U WANT TO USE\n",
    "from stable_baselines3.common.vec_env import DummyVecEnv\n",
    "from stable_baselines3.common.evaluation import evaluate_policy"
   ]
  },
  {
   "cell_type": "markdown",
   "metadata": {},
   "source": [
    "# 2. Create the environnement"
   ]
  },
  {
   "cell_type": "code",
   "execution_count": null,
   "metadata": {},
   "outputs": [],
   "source": [
    "class Balloon(gym.Env):\n",
    "    def __init__(self):\n",
    "        super(Balloon, self).__init__()\n",
    "\n",
    "        goal_long = 2.65\n",
    "        goal_lat = 34.54\n",
    "\n",
    "        temps_exploration = 3600\n",
    "        \n",
    "        # Define the action space\n",
    "        self.action_space = gym.spaces.Discrete(3)  \n",
    "        \"\"\"\n",
    "        Action 0 : You do nothing and let the balloon follow the wind for temps_exploration seconds\n",
    "        Action 1 : You push the balloon upwards (goes up in altitude) (instanneous action)\n",
    "        Action 2 : You push the balloon downwards (goes down in altitude) (instanneous action)\n",
    "        \"\"\"\n",
    "        \n",
    "        # Define the observation space\n",
    "        self.observation_space = gym.spaces.Tuple(( \n",
    "            gym.spaces.Box(low=0, high=86400, shape=(1,), dtype=np.float32), # time (in special format)\n",
    "            gym.spaces.Discrete(18), #Altitude (17 different positions : no need for more precisions)\n",
    "            gym.spaces.Box(low=0, high=180, shape=(1,), dtype=np.float32),  #Longitude\n",
    "            gym.spaces.Box(low=0, high=90, shape=(1,), dtype=np.float32)   #Latitude\n",
    "            ))\n",
    "        \n",
    "    def reset(self):\n",
    "        # Reset the environment to its initial state\n",
    "        # Resetting the ballon to its initial position : 73 boulevard des maréchaux\n",
    "        self.state = (np.array([0], dtype=np.float32), \n",
    "                      np.array([0], dtype=np.float32), \n",
    "                      0, \n",
    "                      #special time \n",
    "                      )\n",
    "        return self.state, {}\n",
    "    \n",
    "    def get_terminated(self, state):\n",
    "        \n",
    "        pass\n",
    "    \n",
    "    def get_reward(self, state):\n",
    "        pass\n",
    "\n",
    "    \n",
    "    def step(self, action):\n",
    "        # Take a step in the environment based on the given action\n",
    "        if action == 0:\n",
    "            #You decide to follow the wind flow :\n",
    "            \n",
    "\n",
    "            self.state[0] += 1\n",
    "        elif action == 1:\n",
    "            #You go up 1 case in altitude\n",
    "            self.state[1] += 1\n",
    "        else :\n",
    "            #You go down one case in altitude\n",
    "            pass\n",
    "    \n",
    "\n",
    "        # Calculate the reward\n",
    "        reward = get_reward(state)\n",
    "        \n",
    "        # Check if the episode has ended\n",
    "        done = get_terminated(state)\n",
    "        \n",
    "        # Check if the episode has been truncated\n",
    "        truncated = False\n",
    "        \n",
    "        # Return the observation, reward, done flag, truncated flag, and info\n",
    "        return self.state, reward, done, truncated, {}\n",
    "    \n",
    "    def render(self, mode='human'):\n",
    "        # Render the environment\n",
    "        print(\"State:\", self.state)\n",
    "\n",
    "\n",
    "    \n"
   ]
  }
 ],
 "metadata": {
  "kernelspec": {
   "display_name": "base",
   "language": "python",
   "name": "python3"
  },
  "language_info": {
   "codemirror_mode": {
    "name": "ipython",
    "version": 3
   },
   "file_extension": ".py",
   "mimetype": "text/x-python",
   "name": "python",
   "nbconvert_exporter": "python",
   "pygments_lexer": "ipython3",
   "version": "3.10.9"
  }
 },
 "nbformat": 4,
 "nbformat_minor": 2
}
