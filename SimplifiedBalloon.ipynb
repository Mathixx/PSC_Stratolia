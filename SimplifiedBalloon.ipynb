{
 "cells": [
  {
   "cell_type": "markdown",
   "metadata": {},
   "source": [
    "# 1. Import dependencies"
   ]
  },
  {
   "cell_type": "code",
   "execution_count": 11,
   "metadata": {},
   "outputs": [
    {
     "data": {
      "text/plain": [
       "'\\n#Modules en lien avec Stable_baseline3\\n#IMPORT THE TYPE OF AGENT U WANT TO USE\\nfrom stable_baselines3.common.vec_env import DummyVecEnv\\nfrom stable_baselines3.common.evaluation import evaluate_policy\\n'"
      ]
     },
     "execution_count": 11,
     "metadata": {},
     "output_type": "execute_result"
    }
   ],
   "source": [
    "#Modules en lien avec Gym\n",
    "import gymnasium as gym\n",
    "\n",
    "#Modules utiles\n",
    "import sys\n",
    "sys.path.append('/Users/mathiasperez/Documents/GitHub/PSC_Stratolia/Algo Naif')\n",
    "from parcours import parcours_a_Z, distance_destination, case, ventU_ventV\n",
    "import Node\n",
    "\n",
    "import os\n",
    "import numpy as np\n",
    "import random\n",
    "import os\n",
    "import datetime as dt \n",
    "import time\n",
    "import math\n",
    "\n",
    "\"\"\"\n",
    "#Modules en lien avec Stable_baseline3\n",
    "#IMPORT THE TYPE OF AGENT U WANT TO USE\n",
    "from stable_baselines3.common.vec_env import DummyVecEnv\n",
    "from stable_baselines3.common.evaluation import evaluate_policy\n",
    "\"\"\""
   ]
  },
  {
   "cell_type": "markdown",
   "metadata": {},
   "source": [
    "# 1.bis Import the wind-datas"
   ]
  },
  {
   "cell_type": "code",
   "execution_count": 2,
   "metadata": {},
   "outputs": [
    {
     "data": {
      "text/plain": [
       "'\\nLe tableau va de :\\ndatetime.datetime(2020, 1, 1, 0, 0) à datetime.datetime(2021, 1, 1, 0, 0)\\n'"
      ]
     },
     "execution_count": 2,
     "metadata": {},
     "output_type": "execute_result"
    }
   ],
   "source": [
    "import pickle\n",
    "with open(\"objet_wind_data_2020.pickle\", \"rb\") as f:\n",
    "    wind_data = pickle.load(f)\n",
    "\n",
    "\"\"\"\n",
    "Le tableau va de :\n",
    "datetime.datetime(2020, 1, 1, 0, 0) à datetime.datetime(2021, 1, 1, 0, 0)\n",
    "\"\"\""
   ]
  },
  {
   "cell_type": "code",
   "execution_count": 8,
   "metadata": {},
   "outputs": [
    {
     "name": "stdout",
     "output_type": "stream",
     "text": [
      "[datetime.datetime(2020, 1, 1, 0, 0), datetime.datetime(2020, 1, 1, 6, 0), datetime.datetime(2020, 1, 1, 12, 0), datetime.datetime(2020, 1, 1, 18, 0), datetime.datetime(2020, 1, 2, 0, 0), datetime.datetime(2020, 1, 2, 6, 0), datetime.datetime(2020, 1, 2, 12, 0), datetime.datetime(2020, 1, 2, 18, 0), datetime.datetime(2020, 1, 3, 0, 0), datetime.datetime(2020, 1, 3, 6, 0), datetime.datetime(2020, 1, 3, 12, 0), datetime.datetime(2020, 1, 3, 18, 0), datetime.datetime(2020, 1, 4, 0, 0), datetime.datetime(2020, 1, 4, 6, 0), datetime.datetime(2020, 1, 4, 12, 0), datetime.datetime(2020, 1, 4, 18, 0), datetime.datetime(2020, 1, 5, 0, 0), datetime.datetime(2020, 1, 5, 6, 0), datetime.datetime(2020, 1, 5, 12, 0), datetime.datetime(2020, 1, 5, 18, 0), datetime.datetime(2020, 1, 6, 0, 0), datetime.datetime(2020, 1, 6, 6, 0), datetime.datetime(2020, 1, 6, 12, 0), datetime.datetime(2020, 1, 6, 18, 0), datetime.datetime(2020, 1, 7, 0, 0), datetime.datetime(2020, 1, 7, 6, 0), datetime.datetime(2020, 1, 7, 12, 0), datetime.datetime(2020, 1, 7, 18, 0), datetime.datetime(2020, 1, 8, 0, 0), datetime.datetime(2020, 1, 8, 6, 0), datetime.datetime(2020, 1, 8, 12, 0), datetime.datetime(2020, 1, 8, 18, 0), datetime.datetime(2020, 1, 9, 0, 0), datetime.datetime(2020, 1, 9, 6, 0), datetime.datetime(2020, 1, 9, 12, 0), datetime.datetime(2020, 1, 9, 18, 0), datetime.datetime(2020, 1, 10, 0, 0), datetime.datetime(2020, 1, 10, 6, 0), datetime.datetime(2020, 1, 10, 12, 0), datetime.datetime(2020, 1, 10, 18, 0), datetime.datetime(2020, 1, 11, 0, 0), datetime.datetime(2020, 1, 11, 6, 0), datetime.datetime(2020, 1, 11, 12, 0), datetime.datetime(2020, 1, 11, 18, 0), datetime.datetime(2020, 1, 12, 0, 0), datetime.datetime(2020, 1, 12, 6, 0), datetime.datetime(2020, 1, 12, 12, 0), datetime.datetime(2020, 1, 12, 18, 0), datetime.datetime(2020, 1, 13, 0, 0), datetime.datetime(2020, 1, 13, 6, 0), datetime.datetime(2020, 1, 13, 12, 0), datetime.datetime(2020, 1, 13, 18, 0), datetime.datetime(2020, 1, 14, 0, 0), datetime.datetime(2020, 1, 14, 6, 0), datetime.datetime(2020, 1, 14, 12, 0), datetime.datetime(2020, 1, 14, 18, 0), datetime.datetime(2020, 1, 15, 0, 0), datetime.datetime(2020, 1, 15, 6, 0), datetime.datetime(2020, 1, 15, 12, 0), datetime.datetime(2020, 1, 15, 18, 0), datetime.datetime(2020, 1, 16, 0, 0), datetime.datetime(2020, 1, 16, 6, 0), datetime.datetime(2020, 1, 16, 12, 0), datetime.datetime(2020, 1, 16, 18, 0), datetime.datetime(2020, 1, 17, 0, 0), datetime.datetime(2020, 1, 17, 6, 0), datetime.datetime(2020, 1, 17, 12, 0), datetime.datetime(2020, 1, 17, 18, 0), datetime.datetime(2020, 1, 18, 0, 0), datetime.datetime(2020, 1, 18, 6, 0), datetime.datetime(2020, 1, 18, 12, 0), datetime.datetime(2020, 1, 18, 18, 0), datetime.datetime(2020, 1, 19, 0, 0), datetime.datetime(2020, 1, 19, 6, 0), datetime.datetime(2020, 1, 19, 12, 0), datetime.datetime(2020, 1, 19, 18, 0), datetime.datetime(2020, 1, 20, 0, 0), datetime.datetime(2020, 1, 20, 6, 0), datetime.datetime(2020, 1, 20, 12, 0), datetime.datetime(2020, 1, 20, 18, 0), datetime.datetime(2020, 1, 21, 0, 0), datetime.datetime(2020, 1, 21, 6, 0), datetime.datetime(2020, 1, 21, 12, 0), datetime.datetime(2020, 1, 21, 18, 0), datetime.datetime(2020, 1, 22, 0, 0), datetime.datetime(2020, 1, 22, 6, 0), datetime.datetime(2020, 1, 22, 12, 0), datetime.datetime(2020, 1, 22, 18, 0), datetime.datetime(2020, 1, 23, 0, 0), datetime.datetime(2020, 1, 23, 6, 0), datetime.datetime(2020, 1, 23, 12, 0), datetime.datetime(2020, 1, 23, 18, 0), datetime.datetime(2020, 1, 24, 0, 0), datetime.datetime(2020, 1, 24, 6, 0), datetime.datetime(2020, 1, 24, 12, 0), datetime.datetime(2020, 1, 24, 18, 0), datetime.datetime(2020, 1, 25, 0, 0), datetime.datetime(2020, 1, 25, 6, 0), datetime.datetime(2020, 1, 25, 12, 0), datetime.datetime(2020, 1, 25, 18, 0), datetime.datetime(2020, 1, 26, 0, 0), datetime.datetime(2020, 1, 26, 6, 0), datetime.datetime(2020, 1, 26, 12, 0), datetime.datetime(2020, 1, 26, 18, 0), datetime.datetime(2020, 1, 27, 0, 0), datetime.datetime(2020, 1, 27, 6, 0), datetime.datetime(2020, 1, 27, 12, 0), datetime.datetime(2020, 1, 27, 18, 0), datetime.datetime(2020, 1, 28, 0, 0), datetime.datetime(2020, 1, 28, 6, 0), datetime.datetime(2020, 1, 28, 12, 0), datetime.datetime(2020, 1, 28, 18, 0), datetime.datetime(2020, 1, 29, 0, 0), datetime.datetime(2020, 1, 29, 6, 0), datetime.datetime(2020, 1, 29, 12, 0), datetime.datetime(2020, 1, 29, 18, 0), datetime.datetime(2020, 1, 30, 0, 0), datetime.datetime(2020, 1, 30, 6, 0), datetime.datetime(2020, 1, 30, 12, 0), datetime.datetime(2020, 1, 30, 18, 0), datetime.datetime(2020, 1, 31, 0, 0), datetime.datetime(2020, 1, 31, 6, 0), datetime.datetime(2020, 1, 31, 12, 0), datetime.datetime(2020, 1, 31, 18, 0), datetime.datetime(2020, 2, 1, 0, 0), datetime.datetime(2020, 2, 1, 6, 0), datetime.datetime(2020, 2, 1, 12, 0), datetime.datetime(2020, 2, 1, 18, 0), datetime.datetime(2020, 2, 2, 0, 0), datetime.datetime(2020, 2, 2, 6, 0), datetime.datetime(2020, 2, 2, 12, 0), datetime.datetime(2020, 2, 2, 18, 0), datetime.datetime(2020, 2, 3, 0, 0), datetime.datetime(2020, 2, 3, 6, 0), datetime.datetime(2020, 2, 3, 12, 0), datetime.datetime(2020, 2, 3, 18, 0), datetime.datetime(2020, 2, 4, 0, 0), datetime.datetime(2020, 2, 4, 6, 0), datetime.datetime(2020, 2, 4, 12, 0), datetime.datetime(2020, 2, 4, 18, 0), datetime.datetime(2020, 2, 5, 0, 0), datetime.datetime(2020, 2, 5, 6, 0), datetime.datetime(2020, 2, 5, 12, 0), datetime.datetime(2020, 2, 5, 18, 0), datetime.datetime(2020, 2, 6, 0, 0), datetime.datetime(2020, 2, 6, 6, 0), datetime.datetime(2020, 2, 6, 12, 0), datetime.datetime(2020, 2, 6, 18, 0), datetime.datetime(2020, 2, 7, 0, 0), datetime.datetime(2020, 2, 7, 6, 0), datetime.datetime(2020, 2, 7, 12, 0), datetime.datetime(2020, 2, 7, 18, 0), datetime.datetime(2020, 2, 8, 0, 0), datetime.datetime(2020, 2, 8, 6, 0), datetime.datetime(2020, 2, 8, 12, 0), datetime.datetime(2020, 2, 8, 18, 0), datetime.datetime(2020, 2, 9, 0, 0), datetime.datetime(2020, 2, 9, 6, 0), datetime.datetime(2020, 2, 9, 12, 0), datetime.datetime(2020, 2, 9, 18, 0), datetime.datetime(2020, 2, 10, 0, 0), datetime.datetime(2020, 2, 10, 6, 0), datetime.datetime(2020, 2, 10, 12, 0), datetime.datetime(2020, 2, 10, 18, 0), datetime.datetime(2020, 2, 11, 0, 0), datetime.datetime(2020, 2, 11, 6, 0), datetime.datetime(2020, 2, 11, 12, 0), datetime.datetime(2020, 2, 11, 18, 0), datetime.datetime(2020, 2, 12, 0, 0), datetime.datetime(2020, 2, 12, 6, 0), datetime.datetime(2020, 2, 12, 12, 0), datetime.datetime(2020, 2, 12, 18, 0), datetime.datetime(2020, 2, 13, 0, 0), datetime.datetime(2020, 2, 13, 6, 0), datetime.datetime(2020, 2, 13, 12, 0), datetime.datetime(2020, 2, 13, 18, 0), datetime.datetime(2020, 2, 14, 0, 0), datetime.datetime(2020, 2, 14, 6, 0), datetime.datetime(2020, 2, 14, 12, 0), datetime.datetime(2020, 2, 14, 18, 0), datetime.datetime(2020, 2, 15, 0, 0), datetime.datetime(2020, 2, 15, 6, 0), datetime.datetime(2020, 2, 15, 12, 0), datetime.datetime(2020, 2, 15, 18, 0), datetime.datetime(2020, 2, 16, 0, 0), datetime.datetime(2020, 2, 16, 6, 0), datetime.datetime(2020, 2, 16, 12, 0), datetime.datetime(2020, 2, 16, 18, 0), datetime.datetime(2020, 2, 17, 0, 0), datetime.datetime(2020, 2, 17, 6, 0), datetime.datetime(2020, 2, 17, 12, 0), datetime.datetime(2020, 2, 17, 18, 0), datetime.datetime(2020, 2, 18, 0, 0), datetime.datetime(2020, 2, 18, 6, 0), datetime.datetime(2020, 2, 18, 12, 0), datetime.datetime(2020, 2, 18, 18, 0), datetime.datetime(2020, 2, 19, 0, 0), datetime.datetime(2020, 2, 19, 6, 0), datetime.datetime(2020, 2, 19, 12, 0), datetime.datetime(2020, 2, 19, 18, 0), datetime.datetime(2020, 2, 20, 0, 0), datetime.datetime(2020, 2, 20, 6, 0), datetime.datetime(2020, 2, 20, 12, 0), datetime.datetime(2020, 2, 20, 18, 0), datetime.datetime(2020, 2, 21, 0, 0), datetime.datetime(2020, 2, 21, 6, 0), datetime.datetime(2020, 2, 21, 12, 0), datetime.datetime(2020, 2, 21, 18, 0), datetime.datetime(2020, 2, 22, 0, 0), datetime.datetime(2020, 2, 22, 6, 0), datetime.datetime(2020, 2, 22, 12, 0), datetime.datetime(2020, 2, 22, 18, 0), datetime.datetime(2020, 2, 23, 0, 0), datetime.datetime(2020, 2, 23, 6, 0), datetime.datetime(2020, 2, 23, 12, 0), datetime.datetime(2020, 2, 23, 18, 0), datetime.datetime(2020, 2, 24, 0, 0), datetime.datetime(2020, 2, 24, 6, 0), datetime.datetime(2020, 2, 24, 12, 0), datetime.datetime(2020, 2, 24, 18, 0), datetime.datetime(2020, 2, 25, 0, 0), datetime.datetime(2020, 2, 25, 6, 0), datetime.datetime(2020, 2, 25, 12, 0), datetime.datetime(2020, 2, 25, 18, 0), datetime.datetime(2020, 2, 26, 0, 0), datetime.datetime(2020, 2, 26, 6, 0), datetime.datetime(2020, 2, 26, 12, 0), datetime.datetime(2020, 2, 26, 18, 0), datetime.datetime(2020, 2, 27, 0, 0), datetime.datetime(2020, 2, 27, 6, 0), datetime.datetime(2020, 2, 27, 12, 0), datetime.datetime(2020, 2, 27, 18, 0), datetime.datetime(2020, 2, 28, 0, 0), datetime.datetime(2020, 2, 28, 6, 0), datetime.datetime(2020, 2, 28, 12, 0), datetime.datetime(2020, 2, 28, 18, 0), datetime.datetime(2020, 2, 29, 0, 0), datetime.datetime(2020, 2, 29, 6, 0), datetime.datetime(2020, 2, 29, 12, 0), datetime.datetime(2020, 2, 29, 18, 0), datetime.datetime(2020, 3, 1, 0, 0), datetime.datetime(2020, 3, 1, 6, 0), datetime.datetime(2020, 3, 1, 12, 0), datetime.datetime(2020, 3, 1, 18, 0), datetime.datetime(2020, 3, 2, 0, 0), datetime.datetime(2020, 3, 2, 6, 0), datetime.datetime(2020, 3, 2, 12, 0), datetime.datetime(2020, 3, 2, 18, 0), datetime.datetime(2020, 3, 3, 0, 0), datetime.datetime(2020, 3, 3, 6, 0), datetime.datetime(2020, 3, 3, 12, 0), datetime.datetime(2020, 3, 3, 18, 0), datetime.datetime(2020, 3, 4, 0, 0), datetime.datetime(2020, 3, 4, 6, 0), datetime.datetime(2020, 3, 4, 12, 0), datetime.datetime(2020, 3, 4, 18, 0), datetime.datetime(2020, 3, 5, 0, 0), datetime.datetime(2020, 3, 5, 6, 0), datetime.datetime(2020, 3, 5, 12, 0), datetime.datetime(2020, 3, 5, 18, 0), datetime.datetime(2020, 3, 6, 0, 0), datetime.datetime(2020, 3, 6, 6, 0), datetime.datetime(2020, 3, 6, 12, 0), datetime.datetime(2020, 3, 6, 18, 0), datetime.datetime(2020, 3, 7, 0, 0), datetime.datetime(2020, 3, 7, 6, 0), datetime.datetime(2020, 3, 7, 12, 0), datetime.datetime(2020, 3, 7, 18, 0), datetime.datetime(2020, 3, 8, 0, 0), datetime.datetime(2020, 3, 8, 6, 0), datetime.datetime(2020, 3, 8, 12, 0), datetime.datetime(2020, 3, 8, 18, 0), datetime.datetime(2020, 3, 9, 0, 0), datetime.datetime(2020, 3, 9, 6, 0), datetime.datetime(2020, 3, 9, 12, 0), datetime.datetime(2020, 3, 9, 18, 0), datetime.datetime(2020, 3, 10, 0, 0), datetime.datetime(2020, 3, 10, 6, 0), datetime.datetime(2020, 3, 10, 12, 0), datetime.datetime(2020, 3, 10, 18, 0), datetime.datetime(2020, 3, 11, 0, 0), datetime.datetime(2020, 3, 11, 6, 0), datetime.datetime(2020, 3, 11, 12, 0), datetime.datetime(2020, 3, 11, 18, 0), datetime.datetime(2020, 3, 12, 0, 0), datetime.datetime(2020, 3, 12, 6, 0), datetime.datetime(2020, 3, 12, 12, 0), datetime.datetime(2020, 3, 12, 18, 0), datetime.datetime(2020, 3, 13, 0, 0), datetime.datetime(2020, 3, 13, 6, 0), datetime.datetime(2020, 3, 13, 12, 0), datetime.datetime(2020, 3, 13, 18, 0), datetime.datetime(2020, 3, 14, 0, 0), datetime.datetime(2020, 3, 14, 6, 0), datetime.datetime(2020, 3, 14, 12, 0), datetime.datetime(2020, 3, 14, 18, 0), datetime.datetime(2020, 3, 15, 0, 0), datetime.datetime(2020, 3, 15, 6, 0), datetime.datetime(2020, 3, 15, 12, 0), datetime.datetime(2020, 3, 15, 18, 0), datetime.datetime(2020, 3, 16, 0, 0), datetime.datetime(2020, 3, 16, 6, 0), datetime.datetime(2020, 3, 16, 12, 0), datetime.datetime(2020, 3, 16, 18, 0), datetime.datetime(2020, 3, 17, 0, 0), datetime.datetime(2020, 3, 17, 6, 0), datetime.datetime(2020, 3, 17, 12, 0), datetime.datetime(2020, 3, 17, 18, 0), datetime.datetime(2020, 3, 18, 0, 0), datetime.datetime(2020, 3, 18, 6, 0), datetime.datetime(2020, 3, 18, 12, 0), datetime.datetime(2020, 3, 18, 18, 0), datetime.datetime(2020, 3, 19, 0, 0), datetime.datetime(2020, 3, 19, 6, 0), datetime.datetime(2020, 3, 19, 12, 0), datetime.datetime(2020, 3, 19, 18, 0), datetime.datetime(2020, 3, 20, 0, 0), datetime.datetime(2020, 3, 20, 6, 0), datetime.datetime(2020, 3, 20, 12, 0), datetime.datetime(2020, 3, 20, 18, 0), datetime.datetime(2020, 3, 21, 0, 0), datetime.datetime(2020, 3, 21, 6, 0), datetime.datetime(2020, 3, 21, 12, 0), datetime.datetime(2020, 3, 21, 18, 0), datetime.datetime(2020, 3, 22, 0, 0), datetime.datetime(2020, 3, 22, 6, 0), datetime.datetime(2020, 3, 22, 12, 0), datetime.datetime(2020, 3, 22, 18, 0), datetime.datetime(2020, 3, 23, 0, 0), datetime.datetime(2020, 3, 23, 6, 0), datetime.datetime(2020, 3, 23, 12, 0), datetime.datetime(2020, 3, 23, 18, 0), datetime.datetime(2020, 3, 24, 0, 0), datetime.datetime(2020, 3, 24, 6, 0), datetime.datetime(2020, 3, 24, 12, 0), datetime.datetime(2020, 3, 24, 18, 0), datetime.datetime(2020, 3, 25, 0, 0), datetime.datetime(2020, 3, 25, 6, 0), datetime.datetime(2020, 3, 25, 12, 0), datetime.datetime(2020, 3, 25, 18, 0), datetime.datetime(2020, 3, 26, 0, 0), datetime.datetime(2020, 3, 26, 6, 0), datetime.datetime(2020, 3, 26, 12, 0), datetime.datetime(2020, 3, 26, 18, 0), datetime.datetime(2020, 3, 27, 0, 0), datetime.datetime(2020, 3, 27, 6, 0), datetime.datetime(2020, 3, 27, 12, 0), datetime.datetime(2020, 3, 27, 18, 0), datetime.datetime(2020, 3, 28, 0, 0), datetime.datetime(2020, 3, 28, 6, 0), datetime.datetime(2020, 3, 28, 12, 0), datetime.datetime(2020, 3, 28, 18, 0), datetime.datetime(2020, 3, 29, 0, 0), datetime.datetime(2020, 3, 29, 6, 0), datetime.datetime(2020, 3, 29, 12, 0), datetime.datetime(2020, 3, 29, 18, 0), datetime.datetime(2020, 3, 30, 0, 0), datetime.datetime(2020, 3, 30, 6, 0), datetime.datetime(2020, 3, 30, 12, 0), datetime.datetime(2020, 3, 30, 18, 0), datetime.datetime(2020, 3, 31, 0, 0), datetime.datetime(2020, 3, 31, 6, 0), datetime.datetime(2020, 3, 31, 12, 0), datetime.datetime(2020, 3, 31, 18, 0), datetime.datetime(2020, 4, 1, 0, 0), datetime.datetime(2020, 4, 1, 6, 0), datetime.datetime(2020, 4, 1, 12, 0), datetime.datetime(2020, 4, 1, 18, 0), datetime.datetime(2020, 4, 2, 0, 0), datetime.datetime(2020, 4, 2, 6, 0), datetime.datetime(2020, 4, 2, 12, 0), datetime.datetime(2020, 4, 2, 18, 0), datetime.datetime(2020, 4, 3, 0, 0), datetime.datetime(2020, 4, 3, 6, 0), datetime.datetime(2020, 4, 3, 12, 0), datetime.datetime(2020, 4, 3, 18, 0), datetime.datetime(2020, 4, 4, 0, 0), datetime.datetime(2020, 4, 4, 6, 0), datetime.datetime(2020, 4, 4, 12, 0), datetime.datetime(2020, 4, 4, 18, 0), datetime.datetime(2020, 4, 5, 0, 0), datetime.datetime(2020, 4, 5, 6, 0), datetime.datetime(2020, 4, 5, 12, 0), datetime.datetime(2020, 4, 5, 18, 0), datetime.datetime(2020, 4, 6, 0, 0), datetime.datetime(2020, 4, 6, 6, 0), datetime.datetime(2020, 4, 6, 12, 0), datetime.datetime(2020, 4, 6, 18, 0), datetime.datetime(2020, 4, 7, 0, 0), datetime.datetime(2020, 4, 7, 6, 0), datetime.datetime(2020, 4, 7, 12, 0), datetime.datetime(2020, 4, 7, 18, 0), datetime.datetime(2020, 4, 8, 0, 0), datetime.datetime(2020, 4, 8, 6, 0), datetime.datetime(2020, 4, 8, 12, 0), datetime.datetime(2020, 4, 8, 18, 0), datetime.datetime(2020, 4, 9, 0, 0), datetime.datetime(2020, 4, 9, 6, 0), datetime.datetime(2020, 4, 9, 12, 0), datetime.datetime(2020, 4, 9, 18, 0), datetime.datetime(2020, 4, 10, 0, 0), datetime.datetime(2020, 4, 10, 6, 0), datetime.datetime(2020, 4, 10, 12, 0), datetime.datetime(2020, 4, 10, 18, 0), datetime.datetime(2020, 4, 11, 0, 0), datetime.datetime(2020, 4, 11, 6, 0), datetime.datetime(2020, 4, 11, 12, 0), datetime.datetime(2020, 4, 11, 18, 0), datetime.datetime(2020, 4, 12, 0, 0), datetime.datetime(2020, 4, 12, 6, 0), datetime.datetime(2020, 4, 12, 12, 0), datetime.datetime(2020, 4, 12, 18, 0), datetime.datetime(2020, 4, 13, 0, 0), datetime.datetime(2020, 4, 13, 6, 0), datetime.datetime(2020, 4, 13, 12, 0), datetime.datetime(2020, 4, 13, 18, 0), datetime.datetime(2020, 4, 14, 0, 0), datetime.datetime(2020, 4, 14, 6, 0), datetime.datetime(2020, 4, 14, 12, 0), datetime.datetime(2020, 4, 14, 18, 0), datetime.datetime(2020, 4, 15, 0, 0), datetime.datetime(2020, 4, 15, 6, 0), datetime.datetime(2020, 4, 15, 12, 0), datetime.datetime(2020, 4, 15, 18, 0), datetime.datetime(2020, 4, 16, 0, 0), datetime.datetime(2020, 4, 16, 6, 0), datetime.datetime(2020, 4, 16, 12, 0), datetime.datetime(2020, 4, 16, 18, 0), datetime.datetime(2020, 4, 17, 0, 0), datetime.datetime(2020, 4, 17, 6, 0), datetime.datetime(2020, 4, 17, 12, 0), datetime.datetime(2020, 4, 17, 18, 0), datetime.datetime(2020, 4, 18, 0, 0), datetime.datetime(2020, 4, 18, 6, 0), datetime.datetime(2020, 4, 18, 12, 0), datetime.datetime(2020, 4, 18, 18, 0), datetime.datetime(2020, 4, 19, 0, 0), datetime.datetime(2020, 4, 19, 6, 0), datetime.datetime(2020, 4, 19, 12, 0), datetime.datetime(2020, 4, 19, 18, 0), datetime.datetime(2020, 4, 20, 0, 0), datetime.datetime(2020, 4, 20, 6, 0), datetime.datetime(2020, 4, 20, 12, 0), datetime.datetime(2020, 4, 20, 18, 0), datetime.datetime(2020, 4, 21, 0, 0), datetime.datetime(2020, 4, 21, 6, 0), datetime.datetime(2020, 4, 21, 12, 0), datetime.datetime(2020, 4, 21, 18, 0), datetime.datetime(2020, 4, 22, 0, 0), datetime.datetime(2020, 4, 22, 6, 0), datetime.datetime(2020, 4, 22, 12, 0), datetime.datetime(2020, 4, 22, 18, 0), datetime.datetime(2020, 4, 23, 0, 0), datetime.datetime(2020, 4, 23, 6, 0), datetime.datetime(2020, 4, 23, 12, 0), datetime.datetime(2020, 4, 23, 18, 0), datetime.datetime(2020, 4, 24, 0, 0), datetime.datetime(2020, 4, 24, 6, 0), datetime.datetime(2020, 4, 24, 12, 0), datetime.datetime(2020, 4, 24, 18, 0), datetime.datetime(2020, 4, 25, 0, 0), datetime.datetime(2020, 4, 25, 6, 0), datetime.datetime(2020, 4, 25, 12, 0), datetime.datetime(2020, 4, 25, 18, 0), datetime.datetime(2020, 4, 26, 0, 0), datetime.datetime(2020, 4, 26, 6, 0), datetime.datetime(2020, 4, 26, 12, 0), datetime.datetime(2020, 4, 26, 18, 0), datetime.datetime(2020, 4, 27, 0, 0), datetime.datetime(2020, 4, 27, 6, 0), datetime.datetime(2020, 4, 27, 12, 0), datetime.datetime(2020, 4, 27, 18, 0), datetime.datetime(2020, 4, 28, 0, 0), datetime.datetime(2020, 4, 28, 6, 0), datetime.datetime(2020, 4, 28, 12, 0), datetime.datetime(2020, 4, 28, 18, 0), datetime.datetime(2020, 4, 29, 0, 0), datetime.datetime(2020, 4, 29, 6, 0), datetime.datetime(2020, 4, 29, 12, 0), datetime.datetime(2020, 4, 29, 18, 0), datetime.datetime(2020, 4, 30, 0, 0), datetime.datetime(2020, 4, 30, 6, 0), datetime.datetime(2020, 4, 30, 12, 0), datetime.datetime(2020, 4, 30, 18, 0), datetime.datetime(2020, 5, 1, 0, 0), datetime.datetime(2020, 5, 1, 6, 0), datetime.datetime(2020, 5, 1, 12, 0), datetime.datetime(2020, 5, 1, 18, 0), datetime.datetime(2020, 5, 2, 0, 0), datetime.datetime(2020, 5, 2, 6, 0), datetime.datetime(2020, 5, 2, 12, 0), datetime.datetime(2020, 5, 2, 18, 0), datetime.datetime(2020, 5, 3, 0, 0), datetime.datetime(2020, 5, 3, 6, 0), datetime.datetime(2020, 5, 3, 12, 0), datetime.datetime(2020, 5, 3, 18, 0), datetime.datetime(2020, 5, 4, 0, 0), datetime.datetime(2020, 5, 4, 6, 0), datetime.datetime(2020, 5, 4, 12, 0), datetime.datetime(2020, 5, 4, 18, 0), datetime.datetime(2020, 5, 5, 0, 0), datetime.datetime(2020, 5, 5, 6, 0), datetime.datetime(2020, 5, 5, 12, 0), datetime.datetime(2020, 5, 5, 18, 0), datetime.datetime(2020, 5, 6, 0, 0), datetime.datetime(2020, 5, 6, 6, 0), datetime.datetime(2020, 5, 6, 12, 0), datetime.datetime(2020, 5, 6, 18, 0), datetime.datetime(2020, 5, 7, 0, 0), datetime.datetime(2020, 5, 7, 6, 0), datetime.datetime(2020, 5, 7, 12, 0), datetime.datetime(2020, 5, 7, 18, 0), datetime.datetime(2020, 5, 8, 0, 0), datetime.datetime(2020, 5, 8, 6, 0), datetime.datetime(2020, 5, 8, 12, 0), datetime.datetime(2020, 5, 8, 18, 0), datetime.datetime(2020, 5, 9, 0, 0), datetime.datetime(2020, 5, 9, 6, 0), datetime.datetime(2020, 5, 9, 12, 0), datetime.datetime(2020, 5, 9, 18, 0), datetime.datetime(2020, 5, 10, 0, 0), datetime.datetime(2020, 5, 10, 6, 0), datetime.datetime(2020, 5, 10, 12, 0), datetime.datetime(2020, 5, 10, 18, 0), datetime.datetime(2020, 5, 11, 0, 0), datetime.datetime(2020, 5, 11, 6, 0), datetime.datetime(2020, 5, 11, 12, 0), datetime.datetime(2020, 5, 11, 18, 0), datetime.datetime(2020, 5, 12, 0, 0), datetime.datetime(2020, 5, 12, 6, 0), datetime.datetime(2020, 5, 12, 12, 0), datetime.datetime(2020, 5, 12, 18, 0), datetime.datetime(2020, 5, 13, 0, 0), datetime.datetime(2020, 5, 13, 6, 0), datetime.datetime(2020, 5, 13, 12, 0), datetime.datetime(2020, 5, 13, 18, 0), datetime.datetime(2020, 5, 14, 0, 0), datetime.datetime(2020, 5, 14, 6, 0), datetime.datetime(2020, 5, 14, 12, 0), datetime.datetime(2020, 5, 14, 18, 0), datetime.datetime(2020, 5, 15, 0, 0), datetime.datetime(2020, 5, 15, 6, 0), datetime.datetime(2020, 5, 15, 12, 0), datetime.datetime(2020, 5, 15, 18, 0), datetime.datetime(2020, 5, 16, 0, 0), datetime.datetime(2020, 5, 16, 6, 0), datetime.datetime(2020, 5, 16, 12, 0), datetime.datetime(2020, 5, 16, 18, 0), datetime.datetime(2020, 5, 17, 0, 0), datetime.datetime(2020, 5, 17, 6, 0), datetime.datetime(2020, 5, 17, 12, 0), datetime.datetime(2020, 5, 17, 18, 0), datetime.datetime(2020, 5, 18, 0, 0), datetime.datetime(2020, 5, 18, 6, 0), datetime.datetime(2020, 5, 18, 12, 0), datetime.datetime(2020, 5, 18, 18, 0), datetime.datetime(2020, 5, 19, 0, 0), datetime.datetime(2020, 5, 19, 6, 0), datetime.datetime(2020, 5, 19, 12, 0), datetime.datetime(2020, 5, 19, 18, 0), datetime.datetime(2020, 5, 20, 0, 0), datetime.datetime(2020, 5, 20, 6, 0), datetime.datetime(2020, 5, 20, 12, 0), datetime.datetime(2020, 5, 20, 18, 0), datetime.datetime(2020, 5, 21, 0, 0), datetime.datetime(2020, 5, 21, 6, 0), datetime.datetime(2020, 5, 21, 12, 0), datetime.datetime(2020, 5, 21, 18, 0), datetime.datetime(2020, 5, 22, 0, 0), datetime.datetime(2020, 5, 22, 6, 0), datetime.datetime(2020, 5, 22, 12, 0), datetime.datetime(2020, 5, 22, 18, 0), datetime.datetime(2020, 5, 23, 0, 0), datetime.datetime(2020, 5, 23, 6, 0), datetime.datetime(2020, 5, 23, 12, 0), datetime.datetime(2020, 5, 23, 18, 0), datetime.datetime(2020, 5, 24, 0, 0), datetime.datetime(2020, 5, 24, 6, 0), datetime.datetime(2020, 5, 24, 12, 0), datetime.datetime(2020, 5, 24, 18, 0), datetime.datetime(2020, 5, 25, 0, 0), datetime.datetime(2020, 5, 25, 6, 0), datetime.datetime(2020, 5, 25, 12, 0), datetime.datetime(2020, 5, 25, 18, 0), datetime.datetime(2020, 5, 26, 0, 0), datetime.datetime(2020, 5, 26, 6, 0), datetime.datetime(2020, 5, 26, 12, 0), datetime.datetime(2020, 5, 26, 18, 0), datetime.datetime(2020, 5, 27, 0, 0), datetime.datetime(2020, 5, 27, 6, 0), datetime.datetime(2020, 5, 27, 12, 0), datetime.datetime(2020, 5, 27, 18, 0), datetime.datetime(2020, 5, 28, 0, 0), datetime.datetime(2020, 5, 28, 6, 0), datetime.datetime(2020, 5, 28, 12, 0), datetime.datetime(2020, 5, 28, 18, 0), datetime.datetime(2020, 5, 29, 0, 0), datetime.datetime(2020, 5, 29, 6, 0), datetime.datetime(2020, 5, 29, 12, 0), datetime.datetime(2020, 5, 29, 18, 0), datetime.datetime(2020, 5, 30, 0, 0), datetime.datetime(2020, 5, 30, 6, 0), datetime.datetime(2020, 5, 30, 12, 0), datetime.datetime(2020, 5, 30, 18, 0), datetime.datetime(2020, 5, 31, 0, 0), datetime.datetime(2020, 5, 31, 6, 0), datetime.datetime(2020, 5, 31, 12, 0), datetime.datetime(2020, 5, 31, 18, 0), datetime.datetime(2020, 6, 1, 0, 0), datetime.datetime(2020, 6, 1, 6, 0), datetime.datetime(2020, 6, 1, 12, 0), datetime.datetime(2020, 6, 1, 18, 0), datetime.datetime(2020, 6, 2, 0, 0), datetime.datetime(2020, 6, 2, 6, 0), datetime.datetime(2020, 6, 2, 12, 0), datetime.datetime(2020, 6, 2, 18, 0), datetime.datetime(2020, 6, 3, 0, 0), datetime.datetime(2020, 6, 3, 6, 0), datetime.datetime(2020, 6, 3, 12, 0), datetime.datetime(2020, 6, 3, 18, 0), datetime.datetime(2020, 6, 4, 0, 0), datetime.datetime(2020, 6, 4, 6, 0), datetime.datetime(2020, 6, 4, 12, 0), datetime.datetime(2020, 6, 4, 18, 0), datetime.datetime(2020, 6, 5, 0, 0), datetime.datetime(2020, 6, 5, 6, 0), datetime.datetime(2020, 6, 5, 12, 0), datetime.datetime(2020, 6, 5, 18, 0), datetime.datetime(2020, 6, 6, 0, 0), datetime.datetime(2020, 6, 6, 6, 0), datetime.datetime(2020, 6, 6, 12, 0), datetime.datetime(2020, 6, 6, 18, 0), datetime.datetime(2020, 6, 7, 0, 0), datetime.datetime(2020, 6, 7, 6, 0), datetime.datetime(2020, 6, 7, 12, 0), datetime.datetime(2020, 6, 7, 18, 0), datetime.datetime(2020, 6, 8, 0, 0), datetime.datetime(2020, 6, 8, 6, 0), datetime.datetime(2020, 6, 8, 12, 0), datetime.datetime(2020, 6, 8, 18, 0), datetime.datetime(2020, 6, 9, 0, 0), datetime.datetime(2020, 6, 9, 6, 0), datetime.datetime(2020, 6, 9, 12, 0), datetime.datetime(2020, 6, 9, 18, 0), datetime.datetime(2020, 6, 10, 0, 0), datetime.datetime(2020, 6, 10, 6, 0), datetime.datetime(2020, 6, 10, 12, 0), datetime.datetime(2020, 6, 10, 18, 0), datetime.datetime(2020, 6, 11, 0, 0), datetime.datetime(2020, 6, 11, 6, 0), datetime.datetime(2020, 6, 11, 12, 0), datetime.datetime(2020, 6, 11, 18, 0), datetime.datetime(2020, 6, 12, 0, 0), datetime.datetime(2020, 6, 12, 6, 0), datetime.datetime(2020, 6, 12, 12, 0), datetime.datetime(2020, 6, 12, 18, 0), datetime.datetime(2020, 6, 13, 0, 0), datetime.datetime(2020, 6, 13, 6, 0), datetime.datetime(2020, 6, 13, 12, 0), datetime.datetime(2020, 6, 13, 18, 0), datetime.datetime(2020, 6, 14, 0, 0), datetime.datetime(2020, 6, 14, 6, 0), datetime.datetime(2020, 6, 14, 12, 0), datetime.datetime(2020, 6, 14, 18, 0), datetime.datetime(2020, 6, 15, 0, 0), datetime.datetime(2020, 6, 15, 6, 0), datetime.datetime(2020, 6, 15, 12, 0), datetime.datetime(2020, 6, 15, 18, 0), datetime.datetime(2020, 6, 16, 0, 0), datetime.datetime(2020, 6, 16, 6, 0), datetime.datetime(2020, 6, 16, 12, 0), datetime.datetime(2020, 6, 16, 18, 0), datetime.datetime(2020, 6, 17, 0, 0), datetime.datetime(2020, 6, 17, 6, 0), datetime.datetime(2020, 6, 17, 12, 0), datetime.datetime(2020, 6, 17, 18, 0), datetime.datetime(2020, 6, 18, 0, 0), datetime.datetime(2020, 6, 18, 6, 0), datetime.datetime(2020, 6, 18, 12, 0), datetime.datetime(2020, 6, 18, 18, 0), datetime.datetime(2020, 6, 19, 0, 0), datetime.datetime(2020, 6, 19, 6, 0), datetime.datetime(2020, 6, 19, 12, 0), datetime.datetime(2020, 6, 19, 18, 0), datetime.datetime(2020, 6, 20, 0, 0), datetime.datetime(2020, 6, 20, 6, 0), datetime.datetime(2020, 6, 20, 12, 0), datetime.datetime(2020, 6, 20, 18, 0), datetime.datetime(2020, 6, 21, 0, 0), datetime.datetime(2020, 6, 21, 6, 0), datetime.datetime(2020, 6, 21, 12, 0), datetime.datetime(2020, 6, 21, 18, 0), datetime.datetime(2020, 6, 22, 0, 0), datetime.datetime(2020, 6, 22, 6, 0), datetime.datetime(2020, 6, 22, 12, 0), datetime.datetime(2020, 6, 22, 18, 0), datetime.datetime(2020, 6, 23, 0, 0), datetime.datetime(2020, 6, 23, 6, 0), datetime.datetime(2020, 6, 23, 12, 0), datetime.datetime(2020, 6, 23, 18, 0), datetime.datetime(2020, 6, 24, 0, 0), datetime.datetime(2020, 6, 24, 6, 0), datetime.datetime(2020, 6, 24, 12, 0), datetime.datetime(2020, 6, 24, 18, 0), datetime.datetime(2020, 6, 25, 0, 0), datetime.datetime(2020, 6, 25, 6, 0), datetime.datetime(2020, 6, 25, 12, 0), datetime.datetime(2020, 6, 25, 18, 0), datetime.datetime(2020, 6, 26, 0, 0), datetime.datetime(2020, 6, 26, 6, 0), datetime.datetime(2020, 6, 26, 12, 0), datetime.datetime(2020, 6, 26, 18, 0), datetime.datetime(2020, 6, 27, 0, 0), datetime.datetime(2020, 6, 27, 6, 0), datetime.datetime(2020, 6, 27, 12, 0), datetime.datetime(2020, 6, 27, 18, 0), datetime.datetime(2020, 6, 28, 0, 0), datetime.datetime(2020, 6, 28, 6, 0), datetime.datetime(2020, 6, 28, 12, 0), datetime.datetime(2020, 6, 28, 18, 0), datetime.datetime(2020, 6, 29, 0, 0), datetime.datetime(2020, 6, 29, 6, 0), datetime.datetime(2020, 6, 29, 12, 0), datetime.datetime(2020, 6, 29, 18, 0), datetime.datetime(2020, 6, 30, 0, 0), datetime.datetime(2020, 6, 30, 6, 0), datetime.datetime(2020, 6, 30, 12, 0), datetime.datetime(2020, 6, 30, 18, 0), datetime.datetime(2020, 7, 1, 0, 0), datetime.datetime(2020, 7, 1, 6, 0), datetime.datetime(2020, 7, 1, 12, 0), datetime.datetime(2020, 7, 1, 18, 0), datetime.datetime(2020, 7, 2, 0, 0), datetime.datetime(2020, 7, 2, 6, 0), datetime.datetime(2020, 7, 2, 12, 0), datetime.datetime(2020, 7, 2, 18, 0), datetime.datetime(2020, 7, 3, 0, 0), datetime.datetime(2020, 7, 3, 6, 0), datetime.datetime(2020, 7, 3, 12, 0), datetime.datetime(2020, 7, 3, 18, 0), datetime.datetime(2020, 7, 4, 0, 0), datetime.datetime(2020, 7, 4, 6, 0), datetime.datetime(2020, 7, 4, 12, 0), datetime.datetime(2020, 7, 4, 18, 0), datetime.datetime(2020, 7, 5, 0, 0), datetime.datetime(2020, 7, 5, 6, 0), datetime.datetime(2020, 7, 5, 12, 0), datetime.datetime(2020, 7, 5, 18, 0), datetime.datetime(2020, 7, 6, 0, 0), datetime.datetime(2020, 7, 6, 6, 0), datetime.datetime(2020, 7, 6, 12, 0), datetime.datetime(2020, 7, 6, 18, 0), datetime.datetime(2020, 7, 7, 0, 0), datetime.datetime(2020, 7, 7, 6, 0), datetime.datetime(2020, 7, 7, 12, 0), datetime.datetime(2020, 7, 7, 18, 0), datetime.datetime(2020, 7, 8, 0, 0), datetime.datetime(2020, 7, 8, 6, 0), datetime.datetime(2020, 7, 8, 12, 0), datetime.datetime(2020, 7, 8, 18, 0), datetime.datetime(2020, 7, 9, 0, 0), datetime.datetime(2020, 7, 9, 6, 0), datetime.datetime(2020, 7, 9, 12, 0), datetime.datetime(2020, 7, 9, 18, 0), datetime.datetime(2020, 7, 10, 0, 0), datetime.datetime(2020, 7, 10, 6, 0), datetime.datetime(2020, 7, 10, 12, 0), datetime.datetime(2020, 7, 10, 18, 0), datetime.datetime(2020, 7, 11, 0, 0), datetime.datetime(2020, 7, 11, 6, 0), datetime.datetime(2020, 7, 11, 12, 0), datetime.datetime(2020, 7, 11, 18, 0), datetime.datetime(2020, 7, 12, 0, 0), datetime.datetime(2020, 7, 12, 6, 0), datetime.datetime(2020, 7, 12, 12, 0), datetime.datetime(2020, 7, 12, 18, 0), datetime.datetime(2020, 7, 13, 0, 0), datetime.datetime(2020, 7, 13, 6, 0), datetime.datetime(2020, 7, 13, 12, 0), datetime.datetime(2020, 7, 13, 18, 0), datetime.datetime(2020, 7, 14, 0, 0), datetime.datetime(2020, 7, 14, 6, 0), datetime.datetime(2020, 7, 14, 12, 0), datetime.datetime(2020, 7, 14, 18, 0), datetime.datetime(2020, 7, 15, 0, 0), datetime.datetime(2020, 7, 15, 6, 0), datetime.datetime(2020, 7, 15, 12, 0), datetime.datetime(2020, 7, 15, 18, 0), datetime.datetime(2020, 7, 16, 0, 0), datetime.datetime(2020, 7, 16, 6, 0), datetime.datetime(2020, 7, 16, 12, 0), datetime.datetime(2020, 7, 16, 18, 0), datetime.datetime(2020, 7, 17, 0, 0), datetime.datetime(2020, 7, 17, 6, 0), datetime.datetime(2020, 7, 17, 12, 0), datetime.datetime(2020, 7, 17, 18, 0), datetime.datetime(2020, 7, 18, 0, 0), datetime.datetime(2020, 7, 18, 6, 0), datetime.datetime(2020, 7, 18, 12, 0), datetime.datetime(2020, 7, 18, 18, 0), datetime.datetime(2020, 7, 19, 0, 0), datetime.datetime(2020, 7, 19, 6, 0), datetime.datetime(2020, 7, 19, 12, 0), datetime.datetime(2020, 7, 19, 18, 0), datetime.datetime(2020, 7, 20, 0, 0), datetime.datetime(2020, 7, 20, 6, 0), datetime.datetime(2020, 7, 20, 12, 0), datetime.datetime(2020, 7, 20, 18, 0), datetime.datetime(2020, 7, 21, 0, 0), datetime.datetime(2020, 7, 21, 6, 0), datetime.datetime(2020, 7, 21, 12, 0), datetime.datetime(2020, 7, 21, 18, 0), datetime.datetime(2020, 7, 22, 0, 0), datetime.datetime(2020, 7, 22, 6, 0), datetime.datetime(2020, 7, 22, 12, 0), datetime.datetime(2020, 7, 22, 18, 0), datetime.datetime(2020, 7, 23, 0, 0), datetime.datetime(2020, 7, 23, 6, 0), datetime.datetime(2020, 7, 23, 12, 0), datetime.datetime(2020, 7, 23, 18, 0), datetime.datetime(2020, 7, 24, 0, 0), datetime.datetime(2020, 7, 24, 6, 0), datetime.datetime(2020, 7, 24, 12, 0), datetime.datetime(2020, 7, 24, 18, 0), datetime.datetime(2020, 7, 25, 0, 0), datetime.datetime(2020, 7, 25, 6, 0), datetime.datetime(2020, 7, 25, 12, 0), datetime.datetime(2020, 7, 25, 18, 0), datetime.datetime(2020, 7, 26, 0, 0), datetime.datetime(2020, 7, 26, 6, 0), datetime.datetime(2020, 7, 26, 12, 0), datetime.datetime(2020, 7, 26, 18, 0), datetime.datetime(2020, 7, 27, 0, 0), datetime.datetime(2020, 7, 27, 6, 0), datetime.datetime(2020, 7, 27, 12, 0), datetime.datetime(2020, 7, 27, 18, 0), datetime.datetime(2020, 7, 28, 0, 0), datetime.datetime(2020, 7, 28, 6, 0), datetime.datetime(2020, 7, 28, 12, 0), datetime.datetime(2020, 7, 28, 18, 0), datetime.datetime(2020, 7, 29, 0, 0), datetime.datetime(2020, 7, 29, 6, 0), datetime.datetime(2020, 7, 29, 12, 0), datetime.datetime(2020, 7, 29, 18, 0), datetime.datetime(2020, 7, 30, 0, 0), datetime.datetime(2020, 7, 30, 6, 0), datetime.datetime(2020, 7, 30, 12, 0), datetime.datetime(2020, 7, 30, 18, 0), datetime.datetime(2020, 7, 31, 0, 0), datetime.datetime(2020, 7, 31, 6, 0), datetime.datetime(2020, 7, 31, 12, 0), datetime.datetime(2020, 7, 31, 18, 0), datetime.datetime(2020, 8, 1, 0, 0), datetime.datetime(2020, 8, 1, 6, 0), datetime.datetime(2020, 8, 1, 12, 0), datetime.datetime(2020, 8, 1, 18, 0), datetime.datetime(2020, 8, 2, 0, 0), datetime.datetime(2020, 8, 2, 6, 0), datetime.datetime(2020, 8, 2, 12, 0), datetime.datetime(2020, 8, 2, 18, 0), datetime.datetime(2020, 8, 3, 0, 0), datetime.datetime(2020, 8, 3, 6, 0), datetime.datetime(2020, 8, 3, 12, 0), datetime.datetime(2020, 8, 3, 18, 0), datetime.datetime(2020, 8, 4, 0, 0), datetime.datetime(2020, 8, 4, 6, 0), datetime.datetime(2020, 8, 4, 12, 0), datetime.datetime(2020, 8, 4, 18, 0), datetime.datetime(2020, 8, 5, 0, 0), datetime.datetime(2020, 8, 5, 6, 0), datetime.datetime(2020, 8, 5, 12, 0), datetime.datetime(2020, 8, 5, 18, 0), datetime.datetime(2020, 8, 6, 0, 0), datetime.datetime(2020, 8, 6, 6, 0), datetime.datetime(2020, 8, 6, 12, 0), datetime.datetime(2020, 8, 6, 18, 0), datetime.datetime(2020, 8, 7, 0, 0), datetime.datetime(2020, 8, 7, 6, 0), datetime.datetime(2020, 8, 7, 12, 0), datetime.datetime(2020, 8, 7, 18, 0), datetime.datetime(2020, 8, 8, 0, 0), datetime.datetime(2020, 8, 8, 6, 0), datetime.datetime(2020, 8, 8, 12, 0), datetime.datetime(2020, 8, 8, 18, 0), datetime.datetime(2020, 8, 9, 0, 0), datetime.datetime(2020, 8, 9, 6, 0), datetime.datetime(2020, 8, 9, 12, 0), datetime.datetime(2020, 8, 9, 18, 0), datetime.datetime(2020, 8, 10, 0, 0), datetime.datetime(2020, 8, 10, 6, 0), datetime.datetime(2020, 8, 10, 12, 0), datetime.datetime(2020, 8, 10, 18, 0), datetime.datetime(2020, 8, 11, 0, 0), datetime.datetime(2020, 8, 11, 6, 0), datetime.datetime(2020, 8, 11, 12, 0), datetime.datetime(2020, 8, 11, 18, 0), datetime.datetime(2020, 8, 12, 0, 0), datetime.datetime(2020, 8, 12, 6, 0), datetime.datetime(2020, 8, 12, 12, 0), datetime.datetime(2020, 8, 12, 18, 0), datetime.datetime(2020, 8, 13, 0, 0), datetime.datetime(2020, 8, 13, 6, 0), datetime.datetime(2020, 8, 13, 12, 0), datetime.datetime(2020, 8, 13, 18, 0), datetime.datetime(2020, 8, 14, 0, 0), datetime.datetime(2020, 8, 14, 6, 0), datetime.datetime(2020, 8, 14, 12, 0), datetime.datetime(2020, 8, 14, 18, 0), datetime.datetime(2020, 8, 15, 0, 0), datetime.datetime(2020, 8, 15, 6, 0), datetime.datetime(2020, 8, 15, 12, 0), datetime.datetime(2020, 8, 15, 18, 0), datetime.datetime(2020, 8, 16, 0, 0), datetime.datetime(2020, 8, 16, 6, 0), datetime.datetime(2020, 8, 16, 12, 0), datetime.datetime(2020, 8, 16, 18, 0), datetime.datetime(2020, 8, 17, 0, 0), datetime.datetime(2020, 8, 17, 6, 0), datetime.datetime(2020, 8, 17, 12, 0), datetime.datetime(2020, 8, 17, 18, 0), datetime.datetime(2020, 8, 18, 0, 0), datetime.datetime(2020, 8, 18, 6, 0), datetime.datetime(2020, 8, 18, 12, 0), datetime.datetime(2020, 8, 18, 18, 0), datetime.datetime(2020, 8, 19, 0, 0), datetime.datetime(2020, 8, 19, 6, 0), datetime.datetime(2020, 8, 19, 12, 0), datetime.datetime(2020, 8, 19, 18, 0), datetime.datetime(2020, 8, 20, 0, 0), datetime.datetime(2020, 8, 20, 6, 0), datetime.datetime(2020, 8, 20, 12, 0), datetime.datetime(2020, 8, 20, 18, 0), datetime.datetime(2020, 8, 21, 0, 0), datetime.datetime(2020, 8, 21, 6, 0), datetime.datetime(2020, 8, 21, 12, 0), datetime.datetime(2020, 8, 21, 18, 0), datetime.datetime(2020, 8, 22, 0, 0), datetime.datetime(2020, 8, 22, 6, 0), datetime.datetime(2020, 8, 22, 12, 0), datetime.datetime(2020, 8, 22, 18, 0), datetime.datetime(2020, 8, 23, 0, 0), datetime.datetime(2020, 8, 23, 6, 0), datetime.datetime(2020, 8, 23, 12, 0), datetime.datetime(2020, 8, 23, 18, 0), datetime.datetime(2020, 8, 24, 0, 0), datetime.datetime(2020, 8, 24, 6, 0), datetime.datetime(2020, 8, 24, 12, 0), datetime.datetime(2020, 8, 24, 18, 0), datetime.datetime(2020, 8, 25, 0, 0), datetime.datetime(2020, 8, 25, 6, 0), datetime.datetime(2020, 8, 25, 12, 0), datetime.datetime(2020, 8, 25, 18, 0), datetime.datetime(2020, 8, 26, 0, 0), datetime.datetime(2020, 8, 26, 6, 0), datetime.datetime(2020, 8, 26, 12, 0), datetime.datetime(2020, 8, 26, 18, 0), datetime.datetime(2020, 8, 27, 0, 0), datetime.datetime(2020, 8, 27, 6, 0), datetime.datetime(2020, 8, 27, 12, 0), datetime.datetime(2020, 8, 27, 18, 0), datetime.datetime(2020, 8, 28, 0, 0), datetime.datetime(2020, 8, 28, 6, 0), datetime.datetime(2020, 8, 28, 12, 0), datetime.datetime(2020, 8, 28, 18, 0), datetime.datetime(2020, 8, 29, 0, 0), datetime.datetime(2020, 8, 29, 6, 0), datetime.datetime(2020, 8, 29, 12, 0), datetime.datetime(2020, 8, 29, 18, 0), datetime.datetime(2020, 8, 30, 0, 0), datetime.datetime(2020, 8, 30, 6, 0), datetime.datetime(2020, 8, 30, 12, 0), datetime.datetime(2020, 8, 30, 18, 0), datetime.datetime(2020, 8, 31, 0, 0), datetime.datetime(2020, 8, 31, 6, 0), datetime.datetime(2020, 8, 31, 12, 0), datetime.datetime(2020, 8, 31, 18, 0), datetime.datetime(2020, 9, 1, 0, 0), datetime.datetime(2020, 9, 1, 6, 0), datetime.datetime(2020, 9, 1, 12, 0), datetime.datetime(2020, 9, 1, 18, 0), datetime.datetime(2020, 9, 2, 0, 0), datetime.datetime(2020, 9, 2, 6, 0), datetime.datetime(2020, 9, 2, 12, 0), datetime.datetime(2020, 9, 2, 18, 0), datetime.datetime(2020, 9, 3, 0, 0), datetime.datetime(2020, 9, 3, 6, 0), datetime.datetime(2020, 9, 3, 12, 0), datetime.datetime(2020, 9, 3, 18, 0), datetime.datetime(2020, 9, 4, 0, 0), datetime.datetime(2020, 9, 4, 6, 0), datetime.datetime(2020, 9, 4, 12, 0), datetime.datetime(2020, 9, 4, 18, 0), datetime.datetime(2020, 9, 5, 0, 0), datetime.datetime(2020, 9, 5, 6, 0), datetime.datetime(2020, 9, 5, 12, 0), datetime.datetime(2020, 9, 5, 18, 0), datetime.datetime(2020, 9, 6, 0, 0), datetime.datetime(2020, 9, 6, 6, 0), datetime.datetime(2020, 9, 6, 12, 0), datetime.datetime(2020, 9, 6, 18, 0), datetime.datetime(2020, 9, 7, 0, 0), datetime.datetime(2020, 9, 7, 6, 0), datetime.datetime(2020, 9, 7, 12, 0), datetime.datetime(2020, 9, 7, 18, 0), datetime.datetime(2020, 9, 8, 0, 0), datetime.datetime(2020, 9, 8, 6, 0), datetime.datetime(2020, 9, 8, 12, 0), datetime.datetime(2020, 9, 8, 18, 0), datetime.datetime(2020, 9, 9, 0, 0), datetime.datetime(2020, 9, 9, 6, 0), datetime.datetime(2020, 9, 9, 12, 0), datetime.datetime(2020, 9, 9, 18, 0), datetime.datetime(2020, 9, 10, 0, 0), datetime.datetime(2020, 9, 10, 6, 0), datetime.datetime(2020, 9, 10, 12, 0), datetime.datetime(2020, 9, 10, 18, 0), datetime.datetime(2020, 9, 11, 0, 0), datetime.datetime(2020, 9, 11, 6, 0), datetime.datetime(2020, 9, 11, 12, 0), datetime.datetime(2020, 9, 11, 18, 0), datetime.datetime(2020, 9, 12, 0, 0), datetime.datetime(2020, 9, 12, 6, 0), datetime.datetime(2020, 9, 12, 12, 0), datetime.datetime(2020, 9, 12, 18, 0), datetime.datetime(2020, 9, 13, 0, 0), datetime.datetime(2020, 9, 13, 6, 0), datetime.datetime(2020, 9, 13, 12, 0), datetime.datetime(2020, 9, 13, 18, 0), datetime.datetime(2020, 9, 14, 0, 0), datetime.datetime(2020, 9, 14, 6, 0), datetime.datetime(2020, 9, 14, 12, 0), datetime.datetime(2020, 9, 14, 18, 0), datetime.datetime(2020, 9, 15, 0, 0), datetime.datetime(2020, 9, 15, 6, 0), datetime.datetime(2020, 9, 15, 12, 0), datetime.datetime(2020, 9, 15, 18, 0), datetime.datetime(2020, 9, 16, 0, 0), datetime.datetime(2020, 9, 16, 6, 0), datetime.datetime(2020, 9, 16, 12, 0), datetime.datetime(2020, 9, 16, 18, 0), datetime.datetime(2020, 9, 17, 0, 0), datetime.datetime(2020, 9, 17, 6, 0), datetime.datetime(2020, 9, 17, 12, 0), datetime.datetime(2020, 9, 17, 18, 0), datetime.datetime(2020, 9, 18, 0, 0), datetime.datetime(2020, 9, 18, 6, 0), datetime.datetime(2020, 9, 18, 12, 0), datetime.datetime(2020, 9, 18, 18, 0), datetime.datetime(2020, 9, 19, 0, 0), datetime.datetime(2020, 9, 19, 6, 0), datetime.datetime(2020, 9, 19, 12, 0), datetime.datetime(2020, 9, 19, 18, 0), datetime.datetime(2020, 9, 20, 0, 0), datetime.datetime(2020, 9, 20, 6, 0), datetime.datetime(2020, 9, 20, 12, 0), datetime.datetime(2020, 9, 20, 18, 0), datetime.datetime(2020, 9, 21, 0, 0), datetime.datetime(2020, 9, 21, 6, 0), datetime.datetime(2020, 9, 21, 12, 0), datetime.datetime(2020, 9, 21, 18, 0), datetime.datetime(2020, 9, 22, 0, 0), datetime.datetime(2020, 9, 22, 6, 0), datetime.datetime(2020, 9, 22, 12, 0), datetime.datetime(2020, 9, 22, 18, 0), datetime.datetime(2020, 9, 23, 0, 0), datetime.datetime(2020, 9, 23, 6, 0), datetime.datetime(2020, 9, 23, 12, 0), datetime.datetime(2020, 9, 23, 18, 0), datetime.datetime(2020, 9, 24, 0, 0), datetime.datetime(2020, 9, 24, 6, 0), datetime.datetime(2020, 9, 24, 12, 0), datetime.datetime(2020, 9, 24, 18, 0), datetime.datetime(2020, 9, 25, 0, 0), datetime.datetime(2020, 9, 25, 6, 0), datetime.datetime(2020, 9, 25, 12, 0), datetime.datetime(2020, 9, 25, 18, 0), datetime.datetime(2020, 9, 26, 0, 0), datetime.datetime(2020, 9, 26, 6, 0), datetime.datetime(2020, 9, 26, 12, 0), datetime.datetime(2020, 9, 26, 18, 0), datetime.datetime(2020, 9, 27, 0, 0), datetime.datetime(2020, 9, 27, 6, 0), datetime.datetime(2020, 9, 27, 12, 0), datetime.datetime(2020, 9, 27, 18, 0), datetime.datetime(2020, 9, 28, 0, 0), datetime.datetime(2020, 9, 28, 6, 0), datetime.datetime(2020, 9, 28, 12, 0), datetime.datetime(2020, 9, 28, 18, 0), datetime.datetime(2020, 9, 29, 0, 0), datetime.datetime(2020, 9, 29, 6, 0), datetime.datetime(2020, 9, 29, 12, 0), datetime.datetime(2020, 9, 29, 18, 0), datetime.datetime(2020, 9, 30, 0, 0), datetime.datetime(2020, 9, 30, 6, 0), datetime.datetime(2020, 9, 30, 12, 0), datetime.datetime(2020, 9, 30, 18, 0), datetime.datetime(2020, 10, 1, 0, 0), datetime.datetime(2020, 10, 1, 6, 0), datetime.datetime(2020, 10, 1, 12, 0), datetime.datetime(2020, 10, 1, 18, 0), datetime.datetime(2020, 10, 2, 0, 0), datetime.datetime(2020, 10, 2, 6, 0), datetime.datetime(2020, 10, 2, 12, 0), datetime.datetime(2020, 10, 2, 18, 0), datetime.datetime(2020, 10, 3, 0, 0), datetime.datetime(2020, 10, 3, 6, 0), datetime.datetime(2020, 10, 3, 12, 0), datetime.datetime(2020, 10, 3, 18, 0), datetime.datetime(2020, 10, 4, 0, 0), datetime.datetime(2020, 10, 4, 6, 0), datetime.datetime(2020, 10, 4, 12, 0), datetime.datetime(2020, 10, 4, 18, 0), datetime.datetime(2020, 10, 5, 0, 0), datetime.datetime(2020, 10, 5, 6, 0), datetime.datetime(2020, 10, 5, 12, 0), datetime.datetime(2020, 10, 5, 18, 0), datetime.datetime(2020, 10, 6, 0, 0), datetime.datetime(2020, 10, 6, 6, 0), datetime.datetime(2020, 10, 6, 12, 0), datetime.datetime(2020, 10, 6, 18, 0), datetime.datetime(2020, 10, 7, 0, 0), datetime.datetime(2020, 10, 7, 6, 0), datetime.datetime(2020, 10, 7, 12, 0), datetime.datetime(2020, 10, 7, 18, 0), datetime.datetime(2020, 10, 8, 0, 0), datetime.datetime(2020, 10, 8, 6, 0), datetime.datetime(2020, 10, 8, 12, 0), datetime.datetime(2020, 10, 8, 18, 0), datetime.datetime(2020, 10, 9, 0, 0), datetime.datetime(2020, 10, 9, 6, 0), datetime.datetime(2020, 10, 9, 12, 0), datetime.datetime(2020, 10, 9, 18, 0), datetime.datetime(2020, 10, 10, 0, 0), datetime.datetime(2020, 10, 10, 6, 0), datetime.datetime(2020, 10, 10, 12, 0), datetime.datetime(2020, 10, 10, 18, 0), datetime.datetime(2020, 10, 11, 0, 0), datetime.datetime(2020, 10, 11, 6, 0), datetime.datetime(2020, 10, 11, 12, 0), datetime.datetime(2020, 10, 11, 18, 0), datetime.datetime(2020, 10, 12, 0, 0), datetime.datetime(2020, 10, 12, 6, 0), datetime.datetime(2020, 10, 12, 12, 0), datetime.datetime(2020, 10, 12, 18, 0), datetime.datetime(2020, 10, 13, 0, 0), datetime.datetime(2020, 10, 13, 6, 0), datetime.datetime(2020, 10, 13, 12, 0), datetime.datetime(2020, 10, 13, 18, 0), datetime.datetime(2020, 10, 14, 0, 0), datetime.datetime(2020, 10, 14, 6, 0), datetime.datetime(2020, 10, 14, 12, 0), datetime.datetime(2020, 10, 14, 18, 0), datetime.datetime(2020, 10, 15, 0, 0), datetime.datetime(2020, 10, 15, 6, 0), datetime.datetime(2020, 10, 15, 12, 0), datetime.datetime(2020, 10, 15, 18, 0), datetime.datetime(2020, 10, 16, 0, 0), datetime.datetime(2020, 10, 16, 6, 0), datetime.datetime(2020, 10, 16, 12, 0), datetime.datetime(2020, 10, 16, 18, 0), datetime.datetime(2020, 10, 17, 0, 0), datetime.datetime(2020, 10, 17, 6, 0), datetime.datetime(2020, 10, 17, 12, 0), datetime.datetime(2020, 10, 17, 18, 0), datetime.datetime(2020, 10, 18, 0, 0), datetime.datetime(2020, 10, 18, 6, 0), datetime.datetime(2020, 10, 18, 12, 0), datetime.datetime(2020, 10, 18, 18, 0), datetime.datetime(2020, 10, 19, 0, 0), datetime.datetime(2020, 10, 19, 6, 0), datetime.datetime(2020, 10, 19, 12, 0), datetime.datetime(2020, 10, 19, 18, 0), datetime.datetime(2020, 10, 20, 0, 0), datetime.datetime(2020, 10, 20, 6, 0), datetime.datetime(2020, 10, 20, 12, 0), datetime.datetime(2020, 10, 20, 18, 0), datetime.datetime(2020, 10, 21, 0, 0), datetime.datetime(2020, 10, 21, 6, 0), datetime.datetime(2020, 10, 21, 12, 0), datetime.datetime(2020, 10, 21, 18, 0), datetime.datetime(2020, 10, 22, 0, 0), datetime.datetime(2020, 10, 22, 6, 0), datetime.datetime(2020, 10, 22, 12, 0), datetime.datetime(2020, 10, 22, 18, 0), datetime.datetime(2020, 10, 23, 0, 0), datetime.datetime(2020, 10, 23, 6, 0), datetime.datetime(2020, 10, 23, 12, 0), datetime.datetime(2020, 10, 23, 18, 0), datetime.datetime(2020, 10, 24, 0, 0), datetime.datetime(2020, 10, 24, 6, 0), datetime.datetime(2020, 10, 24, 12, 0), datetime.datetime(2020, 10, 24, 18, 0), datetime.datetime(2020, 10, 25, 0, 0), datetime.datetime(2020, 10, 25, 6, 0), datetime.datetime(2020, 10, 25, 12, 0), datetime.datetime(2020, 10, 25, 18, 0), datetime.datetime(2020, 10, 26, 0, 0), datetime.datetime(2020, 10, 26, 6, 0), datetime.datetime(2020, 10, 26, 12, 0), datetime.datetime(2020, 10, 26, 18, 0), datetime.datetime(2020, 10, 27, 0, 0), datetime.datetime(2020, 10, 27, 6, 0), datetime.datetime(2020, 10, 27, 12, 0), datetime.datetime(2020, 10, 27, 18, 0), datetime.datetime(2020, 10, 28, 0, 0), datetime.datetime(2020, 10, 28, 6, 0), datetime.datetime(2020, 10, 28, 12, 0), datetime.datetime(2020, 10, 28, 18, 0), datetime.datetime(2020, 10, 29, 0, 0), datetime.datetime(2020, 10, 29, 6, 0), datetime.datetime(2020, 10, 29, 12, 0), datetime.datetime(2020, 10, 29, 18, 0), datetime.datetime(2020, 10, 30, 0, 0), datetime.datetime(2020, 10, 30, 6, 0), datetime.datetime(2020, 10, 30, 12, 0), datetime.datetime(2020, 10, 30, 18, 0), datetime.datetime(2020, 10, 31, 0, 0), datetime.datetime(2020, 10, 31, 6, 0), datetime.datetime(2020, 10, 31, 12, 0), datetime.datetime(2020, 10, 31, 18, 0), datetime.datetime(2020, 11, 1, 0, 0), datetime.datetime(2020, 11, 1, 6, 0), datetime.datetime(2020, 11, 1, 12, 0), datetime.datetime(2020, 11, 1, 18, 0), datetime.datetime(2020, 11, 2, 0, 0), datetime.datetime(2020, 11, 2, 6, 0), datetime.datetime(2020, 11, 2, 12, 0), datetime.datetime(2020, 11, 2, 18, 0), datetime.datetime(2020, 11, 3, 0, 0), datetime.datetime(2020, 11, 3, 6, 0), datetime.datetime(2020, 11, 3, 12, 0), datetime.datetime(2020, 11, 3, 18, 0), datetime.datetime(2020, 11, 4, 0, 0), datetime.datetime(2020, 11, 4, 6, 0), datetime.datetime(2020, 11, 4, 12, 0), datetime.datetime(2020, 11, 4, 18, 0), datetime.datetime(2020, 11, 5, 0, 0), datetime.datetime(2020, 11, 5, 6, 0), datetime.datetime(2020, 11, 5, 12, 0), datetime.datetime(2020, 11, 5, 18, 0), datetime.datetime(2020, 11, 6, 0, 0), datetime.datetime(2020, 11, 6, 6, 0), datetime.datetime(2020, 11, 6, 12, 0), datetime.datetime(2020, 11, 6, 18, 0), datetime.datetime(2020, 11, 7, 0, 0), datetime.datetime(2020, 11, 7, 6, 0), datetime.datetime(2020, 11, 7, 12, 0), datetime.datetime(2020, 11, 7, 18, 0), datetime.datetime(2020, 11, 8, 0, 0), datetime.datetime(2020, 11, 8, 6, 0), datetime.datetime(2020, 11, 8, 12, 0), datetime.datetime(2020, 11, 8, 18, 0), datetime.datetime(2020, 11, 9, 0, 0), datetime.datetime(2020, 11, 9, 6, 0), datetime.datetime(2020, 11, 9, 12, 0), datetime.datetime(2020, 11, 9, 18, 0), datetime.datetime(2020, 11, 10, 0, 0), datetime.datetime(2020, 11, 10, 6, 0), datetime.datetime(2020, 11, 10, 12, 0), datetime.datetime(2020, 11, 10, 18, 0), datetime.datetime(2020, 11, 11, 0, 0), datetime.datetime(2020, 11, 11, 6, 0), datetime.datetime(2020, 11, 11, 12, 0), datetime.datetime(2020, 11, 11, 18, 0), datetime.datetime(2020, 11, 12, 0, 0), datetime.datetime(2020, 11, 12, 6, 0), datetime.datetime(2020, 11, 12, 12, 0), datetime.datetime(2020, 11, 12, 18, 0), datetime.datetime(2020, 11, 13, 0, 0), datetime.datetime(2020, 11, 13, 6, 0), datetime.datetime(2020, 11, 13, 12, 0), datetime.datetime(2020, 11, 13, 18, 0), datetime.datetime(2020, 11, 14, 0, 0), datetime.datetime(2020, 11, 14, 6, 0), datetime.datetime(2020, 11, 14, 12, 0), datetime.datetime(2020, 11, 14, 18, 0), datetime.datetime(2020, 11, 15, 0, 0), datetime.datetime(2020, 11, 15, 6, 0), datetime.datetime(2020, 11, 15, 12, 0), datetime.datetime(2020, 11, 15, 18, 0), datetime.datetime(2020, 11, 16, 0, 0), datetime.datetime(2020, 11, 16, 6, 0), datetime.datetime(2020, 11, 16, 12, 0), datetime.datetime(2020, 11, 16, 18, 0), datetime.datetime(2020, 11, 17, 0, 0), datetime.datetime(2020, 11, 17, 6, 0), datetime.datetime(2020, 11, 17, 12, 0), datetime.datetime(2020, 11, 17, 18, 0), datetime.datetime(2020, 11, 18, 0, 0), datetime.datetime(2020, 11, 18, 6, 0), datetime.datetime(2020, 11, 18, 12, 0), datetime.datetime(2020, 11, 18, 18, 0), datetime.datetime(2020, 11, 19, 0, 0), datetime.datetime(2020, 11, 19, 6, 0), datetime.datetime(2020, 11, 19, 12, 0), datetime.datetime(2020, 11, 19, 18, 0), datetime.datetime(2020, 11, 20, 0, 0), datetime.datetime(2020, 11, 20, 6, 0), datetime.datetime(2020, 11, 20, 12, 0), datetime.datetime(2020, 11, 20, 18, 0), datetime.datetime(2020, 11, 21, 0, 0), datetime.datetime(2020, 11, 21, 6, 0), datetime.datetime(2020, 11, 21, 12, 0), datetime.datetime(2020, 11, 21, 18, 0), datetime.datetime(2020, 11, 22, 0, 0), datetime.datetime(2020, 11, 22, 6, 0), datetime.datetime(2020, 11, 22, 12, 0), datetime.datetime(2020, 11, 22, 18, 0), datetime.datetime(2020, 11, 23, 0, 0), datetime.datetime(2020, 11, 23, 6, 0), datetime.datetime(2020, 11, 23, 12, 0), datetime.datetime(2020, 11, 23, 18, 0), datetime.datetime(2020, 11, 24, 0, 0), datetime.datetime(2020, 11, 24, 6, 0), datetime.datetime(2020, 11, 24, 12, 0), datetime.datetime(2020, 11, 24, 18, 0), datetime.datetime(2020, 11, 25, 0, 0), datetime.datetime(2020, 11, 25, 6, 0), datetime.datetime(2020, 11, 25, 12, 0), datetime.datetime(2020, 11, 25, 18, 0), datetime.datetime(2020, 11, 26, 0, 0), datetime.datetime(2020, 11, 26, 6, 0), datetime.datetime(2020, 11, 26, 12, 0), datetime.datetime(2020, 11, 26, 18, 0), datetime.datetime(2020, 11, 27, 0, 0), datetime.datetime(2020, 11, 27, 6, 0), datetime.datetime(2020, 11, 27, 12, 0), datetime.datetime(2020, 11, 27, 18, 0), datetime.datetime(2020, 11, 28, 0, 0), datetime.datetime(2020, 11, 28, 6, 0), datetime.datetime(2020, 11, 28, 12, 0), datetime.datetime(2020, 11, 28, 18, 0), datetime.datetime(2020, 11, 29, 0, 0), datetime.datetime(2020, 11, 29, 6, 0), datetime.datetime(2020, 11, 29, 12, 0), datetime.datetime(2020, 11, 29, 18, 0), datetime.datetime(2020, 11, 30, 0, 0), datetime.datetime(2020, 11, 30, 6, 0), datetime.datetime(2020, 11, 30, 12, 0), datetime.datetime(2020, 11, 30, 18, 0), datetime.datetime(2020, 12, 1, 0, 0), datetime.datetime(2020, 12, 1, 6, 0), datetime.datetime(2020, 12, 1, 12, 0), datetime.datetime(2020, 12, 1, 18, 0), datetime.datetime(2020, 12, 2, 0, 0), datetime.datetime(2020, 12, 2, 6, 0), datetime.datetime(2020, 12, 2, 12, 0), datetime.datetime(2020, 12, 2, 18, 0), datetime.datetime(2020, 12, 3, 0, 0), datetime.datetime(2020, 12, 3, 6, 0), datetime.datetime(2020, 12, 3, 12, 0), datetime.datetime(2020, 12, 3, 18, 0), datetime.datetime(2020, 12, 4, 0, 0), datetime.datetime(2020, 12, 4, 6, 0), datetime.datetime(2020, 12, 4, 12, 0), datetime.datetime(2020, 12, 4, 18, 0), datetime.datetime(2020, 12, 5, 0, 0), datetime.datetime(2020, 12, 5, 6, 0), datetime.datetime(2020, 12, 5, 12, 0), datetime.datetime(2020, 12, 5, 18, 0), datetime.datetime(2020, 12, 6, 0, 0), datetime.datetime(2020, 12, 6, 6, 0), datetime.datetime(2020, 12, 6, 12, 0), datetime.datetime(2020, 12, 6, 18, 0), datetime.datetime(2020, 12, 7, 0, 0), datetime.datetime(2020, 12, 7, 6, 0), datetime.datetime(2020, 12, 7, 12, 0), datetime.datetime(2020, 12, 7, 18, 0), datetime.datetime(2020, 12, 8, 0, 0), datetime.datetime(2020, 12, 8, 6, 0), datetime.datetime(2020, 12, 8, 12, 0), datetime.datetime(2020, 12, 8, 18, 0), datetime.datetime(2020, 12, 9, 0, 0), datetime.datetime(2020, 12, 9, 6, 0), datetime.datetime(2020, 12, 9, 12, 0), datetime.datetime(2020, 12, 9, 18, 0), datetime.datetime(2020, 12, 10, 0, 0), datetime.datetime(2020, 12, 10, 6, 0), datetime.datetime(2020, 12, 10, 12, 0), datetime.datetime(2020, 12, 10, 18, 0), datetime.datetime(2020, 12, 11, 0, 0), datetime.datetime(2020, 12, 11, 6, 0), datetime.datetime(2020, 12, 11, 12, 0), datetime.datetime(2020, 12, 11, 18, 0), datetime.datetime(2020, 12, 12, 0, 0), datetime.datetime(2020, 12, 12, 6, 0), datetime.datetime(2020, 12, 12, 12, 0), datetime.datetime(2020, 12, 12, 18, 0), datetime.datetime(2020, 12, 13, 0, 0), datetime.datetime(2020, 12, 13, 6, 0), datetime.datetime(2020, 12, 13, 12, 0), datetime.datetime(2020, 12, 13, 18, 0), datetime.datetime(2020, 12, 14, 0, 0), datetime.datetime(2020, 12, 14, 6, 0), datetime.datetime(2020, 12, 14, 12, 0), datetime.datetime(2020, 12, 14, 18, 0), datetime.datetime(2020, 12, 15, 0, 0), datetime.datetime(2020, 12, 15, 6, 0), datetime.datetime(2020, 12, 15, 12, 0), datetime.datetime(2020, 12, 15, 18, 0), datetime.datetime(2020, 12, 16, 0, 0), datetime.datetime(2020, 12, 16, 6, 0), datetime.datetime(2020, 12, 16, 12, 0), datetime.datetime(2020, 12, 16, 18, 0), datetime.datetime(2020, 12, 17, 0, 0), datetime.datetime(2020, 12, 17, 6, 0), datetime.datetime(2020, 12, 17, 12, 0), datetime.datetime(2020, 12, 17, 18, 0), datetime.datetime(2020, 12, 18, 0, 0), datetime.datetime(2020, 12, 18, 6, 0), datetime.datetime(2020, 12, 18, 12, 0), datetime.datetime(2020, 12, 18, 18, 0), datetime.datetime(2020, 12, 19, 0, 0), datetime.datetime(2020, 12, 19, 6, 0), datetime.datetime(2020, 12, 19, 12, 0), datetime.datetime(2020, 12, 19, 18, 0), datetime.datetime(2020, 12, 20, 0, 0), datetime.datetime(2020, 12, 20, 6, 0), datetime.datetime(2020, 12, 20, 12, 0), datetime.datetime(2020, 12, 20, 18, 0), datetime.datetime(2020, 12, 21, 0, 0), datetime.datetime(2020, 12, 21, 6, 0), datetime.datetime(2020, 12, 21, 12, 0), datetime.datetime(2020, 12, 21, 18, 0), datetime.datetime(2020, 12, 22, 0, 0), datetime.datetime(2020, 12, 22, 6, 0), datetime.datetime(2020, 12, 22, 12, 0), datetime.datetime(2020, 12, 22, 18, 0), datetime.datetime(2020, 12, 23, 0, 0), datetime.datetime(2020, 12, 23, 6, 0), datetime.datetime(2020, 12, 23, 12, 0), datetime.datetime(2020, 12, 23, 18, 0), datetime.datetime(2020, 12, 24, 0, 0), datetime.datetime(2020, 12, 24, 6, 0), datetime.datetime(2020, 12, 24, 12, 0), datetime.datetime(2020, 12, 24, 18, 0), datetime.datetime(2020, 12, 25, 0, 0), datetime.datetime(2020, 12, 25, 6, 0), datetime.datetime(2020, 12, 25, 12, 0), datetime.datetime(2020, 12, 25, 18, 0), datetime.datetime(2020, 12, 26, 0, 0), datetime.datetime(2020, 12, 26, 6, 0), datetime.datetime(2020, 12, 26, 12, 0), datetime.datetime(2020, 12, 26, 18, 0), datetime.datetime(2020, 12, 27, 0, 0), datetime.datetime(2020, 12, 27, 6, 0), datetime.datetime(2020, 12, 27, 12, 0), datetime.datetime(2020, 12, 27, 18, 0), datetime.datetime(2020, 12, 28, 0, 0), datetime.datetime(2020, 12, 28, 6, 0), datetime.datetime(2020, 12, 28, 12, 0), datetime.datetime(2020, 12, 28, 18, 0), datetime.datetime(2020, 12, 29, 0, 0), datetime.datetime(2020, 12, 29, 6, 0), datetime.datetime(2020, 12, 29, 12, 0), datetime.datetime(2020, 12, 29, 18, 0), datetime.datetime(2020, 12, 30, 0, 0), datetime.datetime(2020, 12, 30, 6, 0), datetime.datetime(2020, 12, 30, 12, 0), datetime.datetime(2020, 12, 30, 18, 0), datetime.datetime(2020, 12, 31, 0, 0), datetime.datetime(2020, 12, 31, 6, 0), datetime.datetime(2020, 12, 31, 12, 0), datetime.datetime(2020, 12, 31, 18, 0), datetime.datetime(2021, 1, 1, 0, 0)]\n"
     ]
    }
   ],
   "source": [
    "print((wind_data['metadata']['grid']['time']))"
   ]
  },
  {
   "cell_type": "markdown",
   "metadata": {},
   "source": [
    "# 1.bisbis Create needed functions"
   ]
  },
  {
   "cell_type": "code",
   "execution_count": 22,
   "metadata": {},
   "outputs": [],
   "source": [
    "\"\"\"\n",
    "    INPUT : start_date and end_date -> datetime objects representing the start and end dates\n",
    "    OUTPUT : A random date bewtween the two inputs and an hour  that is a multiple of 6 (i.e., 0, 6, 12, or 18)\n",
    "\"\"\"\n",
    "def generate_random_date(start_date, end_date):\n",
    "    time_between_dates = end_date - start_date\n",
    "    days_between_dates = time_between_dates.days\n",
    "    random_number_of_days = random.randrange(days_between_dates)\n",
    "    random_date = start_date + dt.timedelta(days=random_number_of_days)\n",
    "    hr  = random.randrange(0, 24, 6)\n",
    "    random_time = dt.time(hour=hr, minute=0, second=0, microsecond=0, tzinfo=None, fold=0)\n",
    "    return dt.datetime.combine(random_date, random_time)\n",
    "\n",
    "\n",
    "\"\"\"\n",
    "INPUT : a set of coordinates, long, lat, time\n",
    "OUTPUT : a sub-array of wind_data centered around the coordinates we own \n",
    "\"\"\"\n",
    "def  get_wind_around_coordinates(longitude, latitude, time, wind_data):\n",
    "    pass"
   ]
  },
  {
   "cell_type": "markdown",
   "metadata": {},
   "source": [
    "# 2. Create the environnement"
   ]
  },
  {
   "cell_type": "code",
   "execution_count": 23,
   "metadata": {},
   "outputs": [],
   "source": [
    "class BalloonEnv(gym.Env):\n",
    "    \"\"\"\n",
    "    ## Description\n",
    "    This environment is a complete representation of our problem.\n",
    "\n",
    "    The destination is always at variable coordinates (random opr not).\n",
    "    So are the starting coordinatesv (probably)\n",
    "\n",
    "\n",
    "    ## Action Space\n",
    "    There are three discrete actions available:\n",
    "    - 0: do nothing et let the wind lead your movement\n",
    "    - 1: go up in altitude (17 heights allowed)\n",
    "    - 2: go down in altitude (17 heights allowed)\n",
    "\n",
    "    ## Observation Space\n",
    "    The state a tuple consisting of different parts : \n",
    "        First you have the time accessible using the datetime module\n",
    "        Then 2 Boxes (simple array) for the longitude and the latitude\n",
    "        Finally one discrete part consisting of the 71 different heights\n",
    "\n",
    "    ## Rewards\n",
    "    After every step a reward is granted. The total reward of an episode is the\n",
    "    sum of the rewards for all the steps within that episode.\n",
    "\n",
    "    For each step, the reward:\n",
    "    (- is increased/decreased the closer/further the ballon is to the goal point.)\n",
    "    - is increased/decreased the slower/faster the lander is moving.\n",
    "    (- is increased/decreased the less/more energy from the battery is used in the round)\n",
    "\n",
    "    The episode receive an additional reward of +100 or -100 points for finding the goal or not respectively.\n",
    "\n",
    "\n",
    "\n",
    "    ## Starting State\n",
    "    The lander starts at a random poinf of the globe (time can be random as well)\n",
    "\n",
    "    ## Episode Termination\n",
    "    The episode finishes if:\n",
    "    1) the balloon gets too far away from the goal;\n",
    "    2) the balloon goes near enough of the goal\n",
    "\n",
    "    ## Arguments\n",
    "\n",
    "     * `goal_long` and 'goal_lat' for the position of our goal destination (can be fixed for specific results)\n",
    "     * 'initial_time' defines the starting time of our episode (=> consequence on the winds)\n",
    "\n",
    "    * `precision' defines how close the balloon must be to the target before being considered as having reached it.\n",
    "\n",
    "    * 'limite_eloignement' defines how far the ballon must be from the target to consider the episode to be a failure.\n",
    "\n",
    "    * `temps_exploration` defines how long we let the ballon follow the winds when action : 0 is considered\n",
    "\n",
    "    ## Version History\n",
    "    - v0: Initial version\n",
    "\n",
    "    ## Current bugs\n",
    "\n",
    "    ## Credits\n",
    "    CMOI\n",
    "    \"\"\"\n",
    "    def __init__(self):\n",
    "        #super(Balloon, self).__init__()\n",
    "\n",
    "        #ICI faut mettre None ou deja des random values ?\n",
    "        self.goal_lat = random.uniform(-90,90)\n",
    "        self.goal_long = random.uniform(0,360)\n",
    "        self.initial_time = generate_random_date(dt.datetime(2020, 1, 1, 0, 0), dt.datetime(2021, 1, 1, 0, 0))\n",
    "\n",
    "        self.limite_eloignement = 10000 #en m\n",
    "        self.precision = 1000 #en m\n",
    "\n",
    "        self.winds = self.get_init_winds()\n",
    "        \n",
    "\n",
    "        self.temps_exploration = 3600\n",
    "        \n",
    "        # Define the action space\n",
    "        self.action_space = gym.spaces.Discrete(3)  \n",
    "        \"\"\"\n",
    "        Action 0 : You do nothing and let the balloon follow the wind for temps_exploration seconds\n",
    "        Action 1 : You push the balloon upwards (goes up in altitude) (instanneous action)\n",
    "        Action 2 : You push the balloon downwards (goes down in altitude) (instanneous action)\n",
    "        \"\"\"\n",
    "        \n",
    "        # Define the observation space\n",
    "        self.observation_space = gym.spaces.Tuple(( \n",
    "            gym.spaces.Discrete(len(wind_data['metadata']['grid']['time'])*6*3600), # time (in special format)\n",
    "            gym.spaces.Discrete(18), #Altitude (17 different positions : no need for more precisions)\n",
    "            gym.spaces.Box(low=0, high=360, shape=(1,), dtype=np.float32),  #Longitude\n",
    "            gym.spaces.Box(low=-90, high=90, shape=(1,), dtype=np.float32)   #Latitude\n",
    "            ))\n",
    "     \n",
    "    def reset(self):\n",
    "        # Reset the environment to its initial state\n",
    "        # Resetting the ballon to a random initial position\n",
    "        #Ici on pourrait randomiser les goal et les positions de depart +temps\n",
    "        self.initial_time = generate_random_date(dt.datetime(2020, 1, 1, 0, 0), dt.datetime(2021, 1, 1, 0, 0))\n",
    "        self.state = ((self.initial_time-dt.datetime(2020, 1, 1, 0, 0)).total_seconds(), \n",
    "                      0, \n",
    "                      np.array([random.uniform(0,360)], dtype=np.float32),\n",
    "                      np.array([random.uniform(-90,90)], dtype=np.float32)\n",
    "                      )\n",
    "        self.goal_lat = random.uniform(-90,90)\n",
    "        self.goal_long = random.uniform(0,360)\n",
    "        while distance_destination((self.goal_long, self.goal_lat), self.state[2], self.state[3]) > 10000000 :\n",
    "            self.goal_lat = random.uniform(-90,90)\n",
    "            self.goal_long = random.uniform(0,360)\n",
    "        self.winds = self.get_init_winds()\n",
    "        return self.state, {}\n",
    "\n",
    "    def get_init_winds(self) :\n",
    "        pass\n",
    "\n",
    "\n",
    "    \n",
    "    def get_terminated(self, state):\n",
    "        long, lat = state[2], state[3]\n",
    "        if distance_destination((self.goal_long, self.goal_lat), long, lat) < self.limite_eloignement :\n",
    "            return True\n",
    "        return False\n",
    "    \n",
    "    def get_reward(self, state):\n",
    "        \"\"\"\n",
    "        - fonction qui donne récompense en fonction de la distance  a l'objectif par rapport a la distance initale\n",
    "        - ajoute un boolean si l'objectif a été atteint ou bien si on en est suffisamment proche\n",
    "        - d'autres trucs a faire surement\n",
    "        \"\"\"\n",
    "        eloignement = distance_destination((self.goal_long, self.goal_lat), state[2], state[3])\n",
    "        time  =  state[0].total_seconds() - self.initial_time.total_seconds()\n",
    "        if (eloignement <= self.limite_eloignement) :\n",
    "            reward =  1000 + math.log(1/time)\n",
    "        else :\n",
    "            reward = math.exp((self.limite_eloignement/eloignement)) +  math.log(1/time)\n",
    "        return reward\n",
    "\n",
    "    \n",
    "    def step(self, action):\n",
    "        # Take a step in the environment based on the given action\n",
    "        if action == 0:\n",
    "            #You decide to follow the wind flow :\n",
    "            long, lat, pression = self.state[2], self.state[3], self.state[1]\n",
    "            secondes_depuis_debut = (self.state[0]-self.initial_time).total_seconds()\n",
    "            temps = secondes_depuis_debut//(6*3600), secondes_depuis_debut%(6*3600)\n",
    "            n = Node(long, lat,temps, pression, None) #longtiude, latitude, temps, ression, prev\n",
    "            terminated, n = parcours_a_Z(\n",
    "                                        (self.goal_long, self.goal_lat),\n",
    "                                        n,\n",
    "                                        temps_chgmt_pression = self.temps_exploration,\n",
    "                                        precision = self.precision, \n",
    "                                        tab_vent = wind_data)\n",
    "            done = terminated\n",
    "            new_date = n.temps[0]*(6*3600)+n.temps[1]\n",
    "            self.state = new_date, n.pression, n.long, n.lat\n",
    "\n",
    "        elif action == 1:\n",
    "            #You go up 1 case in altitude so u go down in pressure\n",
    "            self.state[1] -= 1\n",
    "        else :\n",
    "            #You go down one case in altitudeso u go up in pressure\n",
    "            self.state[1] += 1\n",
    "    \n",
    "\n",
    "        # Calculate the reward\n",
    "        reward = get_reward(self.state)\n",
    "        \n",
    "        # Check if the episode has ended\n",
    "        if not done:\n",
    "            done = get_terminated(self.state)\n",
    "        \n",
    "        # Check if the episode has been truncated\n",
    "        truncated = False\n",
    "        \n",
    "        # Return the observation, reward, done flag, truncated flag, and info\n",
    "        return self.state, reward, done, truncated, {}\n",
    "    \n",
    "    def render(self, mode='human'):\n",
    "        # Render the environment\n",
    "        pass\n",
    "\n",
    "\n",
    "    \n"
   ]
  },
  {
   "cell_type": "code",
   "execution_count": 24,
   "metadata": {},
   "outputs": [
    {
     "data": {
      "text/plain": [
       "Tuple(Discrete(31644000), Discrete(18), Box(0.0, 360.0, (1,), float32), Box(-90.0, 90.0, (1,), float32))"
      ]
     },
     "execution_count": 24,
     "metadata": {},
     "output_type": "execute_result"
    }
   ],
   "source": [
    "env = BalloonEnv()\n",
    "\n",
    "env.observation_space"
   ]
  },
  {
   "cell_type": "code",
   "execution_count": null,
   "metadata": {},
   "outputs": [],
   "source": []
  },
  {
   "cell_type": "code",
   "execution_count": null,
   "metadata": {},
   "outputs": [],
   "source": []
  }
 ],
 "metadata": {
  "kernelspec": {
   "display_name": "base",
   "language": "python",
   "name": "python3"
  },
  "language_info": {
   "codemirror_mode": {
    "name": "ipython",
    "version": 3
   },
   "file_extension": ".py",
   "mimetype": "text/x-python",
   "name": "python",
   "nbconvert_exporter": "python",
   "pygments_lexer": "ipython3",
   "version": "3.12.2"
  }
 },
 "nbformat": 4,
 "nbformat_minor": 2
}
