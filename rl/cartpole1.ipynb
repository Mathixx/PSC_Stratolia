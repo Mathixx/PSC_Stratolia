{
 "cells": [
  {
   "cell_type": "code",
   "execution_count": 185,
   "metadata": {},
   "outputs": [],
   "source": [
    "# Import packages\n",
    "import numpy as np\n",
    "import torch\n",
    "import torch.nn as nn\n",
    "import torch.optim as optim\n",
    "import torch.nn.functional as F\n",
    "from torch.autograd import Variable\n",
    "from typing import List, Tuple\n",
    "from matplotlib import animation\n",
    "\n",
    "import collections\n",
    "from collections import namedtuple, deque\n",
    "import tqdm\n",
    "import matplotlib.pyplot as plt\n",
    "import random\n",
    "import gymnasium as gym\n",
    "\n",
    "from IPython.display import clear_output\n",
    "from IPython import display\n",
    "\n",
    "torch.set_default_dtype(torch.float64)"
   ]
  },
  {
   "cell_type": "code",
   "execution_count": 186,
   "metadata": {},
   "outputs": [
    {
     "name": "stderr",
     "output_type": "stream",
     "text": [
      "c:\\Users\\monce\\AppData\\Local\\Programs\\Python\\Python311\\Lib\\site-packages\\gymnasium\\envs\\registration.py:513: DeprecationWarning: \u001b[33mWARN: The environment CartPole-v0 is out of date. You should consider upgrading to version `v1`.\u001b[0m\n",
      "  logger.deprecation(\n"
     ]
    }
   ],
   "source": [
    "env = gym.make('CartPole-v0', render_mode='rgb_array')\n",
    "state, a = env.reset()\n",
    "\n"
   ]
  },
  {
   "cell_type": "code",
   "execution_count": 187,
   "metadata": {},
   "outputs": [],
   "source": [
    "def save_frames_as_gif(frames, path='./', filename='gym_animation.gif'):\n",
    "\n",
    "    #Mess with this to change frame size\n",
    "    plt.figure(figsize=(frames[0].shape[1] / 72.0, frames[0].shape[0] / 72.0), dpi=72)\n",
    "\n",
    "    patch = plt.imshow(frames[0])\n",
    "    plt.axis('off')\n",
    "\n",
    "    def animate(i):\n",
    "        patch.set_data(frames[i])\n",
    "\n",
    "    anim = animation.FuncAnimation(plt.gcf(), animate, frames = len(frames), interval=50)\n",
    "    anim.save(path + filename, writer='imagemagick', fps=60)\n"
   ]
  },
  {
   "cell_type": "code",
   "execution_count": 188,
   "metadata": {},
   "outputs": [
    {
     "name": "stderr",
     "output_type": "stream",
     "text": [
      "MovieWriter imagemagick unavailable; using Pillow instead.\n"
     ]
    },
    {
     "data": {
      "image/png": "[encoded data removed]",
      "text/plain": [
       "<Figure size 600x400 with 1 Axes>"
      ]
     },
     "metadata": {},
     "output_type": "display_data"
    }
   ],
   "source": [
    "frames = []\n",
    "for i in range(200):\n",
    "    # Display the current state of the environment\n",
    "    frames.append(env.render())\n",
    "    # Choose a random action from the action space\n",
    "    action = env.action_space.sample()\n",
    "    \n",
    "    # Take the chosen action and observe the next state, reward, and termination status\n",
    "    state, reward, terminated, truncated, info = env.step(action)\n",
    "    \n",
    "    # If the episode is terminated or truncated, reset the environment\n",
    "    if terminated or truncated:\n",
    "        state, info = env.reset()\n",
    "\n",
    "# Close the environment after exploration\n",
    "save_frames_as_gif(frames)\n",
    "env.close()"
   ]
  },
  {
   "cell_type": "code",
   "execution_count": 189,
   "metadata": {},
   "outputs": [],
   "source": [
    "class FullyConnectedModel(nn.Module):\n",
    "    def __init__(self, input_size, output_size):\n",
    "        super(FullyConnectedModel, self).__init__()\n",
    "        self.soft = torch.nn.Softmax(dim = -1)\n",
    "        # Define layers with ReLU activation\n",
    "        self.linear1 = nn.Linear(input_size, 16)\n",
    "        self.activation1 = nn.ReLU()\n",
    "        self.linear2 = nn.Linear(16, 16)\n",
    "        self.activation2 = nn.ReLU()\n",
    "        self.linear3 = nn.Linear(16, 16)\n",
    "        self.activation3 = nn.ReLU()\n",
    "\n",
    "        # Output layer without activation function\n",
    "        self.output_layer = nn.Linear(16, output_size)\n",
    "\n",
    "        # Initialization using Xavier uniform (a popular technique for initializing weights in NNs)\n",
    "        nn.init.xavier_uniform_(self.linear1.weight)\n",
    "        nn.init.xavier_uniform_(self.linear2.weight)\n",
    "        nn.init.xavier_uniform_(self.linear3.weight)\n",
    "        nn.init.xavier_uniform_(self.output_layer.weight)\n",
    "\n",
    "    def forward(self, inputs):\n",
    "        # Forward pass through the layers\n",
    "        x = self.activation1(self.linear1(inputs))\n",
    "        x = self.activation2(self.linear2(x))\n",
    "        x = self.activation3(self.linear3(x))\n",
    "        x = self.soft(self.output_layer(x))\n",
    "        return x\n",
    "\n",
    "    \n",
    "class QNetwork:\n",
    "    def __init__(self, env, lr, logdir=None):\n",
    "        # Define Q-network with specified architecture\n",
    "        self.net = FullyConnectedModel(4, 2)\n",
    "        self.env = env\n",
    "        self.lr = lr \n",
    "        self.logdir = logdir\n",
    "        self.optimizer = optim.Adam(self.net.parameters(), lr=self.lr)\n",
    "\n",
    "    def load_model(self, model_file):\n",
    "        # Load pre-trained model from a file\n",
    "        return self.net.load_state_dict(torch.load(model_file))\n",
    "\n",
    "    def load_model_weights(self, weight_file):\n",
    "        # Load pre-trained model weights from a file\n",
    "        return self.net.load_state_dict(torch.load(weight_file))\n",
    "    \n",
    "class QPolicy:\n",
    "    def __init__(self, s_size, a_size):\n",
    "        self.net = FullyConnectedModel(s_size,a_size)\n",
    "\n",
    "    def act(self, state):\n",
    "        state = torch.tensor(state)\n",
    "        probs = self.net(state)\n",
    "        m = torch.distributions.Categorical(probs)\n",
    "        action = m.sample()\n",
    "        return action.item(), m.log_prob(action)"
   ]
  },
  {
   "cell_type": "code",
   "execution_count": null,
   "metadata": {},
   "outputs": [],
   "source": []
  },
  {
   "cell_type": "code",
   "execution_count": 225,
   "metadata": {},
   "outputs": [],
   "source": [
    "qnet = QNetwork(env,1e-1)\n",
    "qpol = QPolicy(4,2)\n"
   ]
  },
  {
   "cell_type": "code",
   "execution_count": 191,
   "metadata": {},
   "outputs": [
    {
     "data": {
      "text/plain": [
       "(array([-0.02641339, -0.5586411 ,  0.09430214,  0.94906044], dtype=float32),\n",
       " 1.0,\n",
       " False,\n",
       " False,\n",
       " {})"
      ]
     },
     "execution_count": 191,
     "metadata": {},
     "output_type": "execute_result"
    }
   ],
   "source": [
    "env.step(1)"
   ]
  },
  {
   "cell_type": "code",
   "execution_count": 217,
   "metadata": {},
   "outputs": [],
   "source": [
    "def reinforce(policy, optimizer, n_training_episodes, max_t, gamma, print_every):\n",
    "    scores_deque = deque(maxlen=100)\n",
    "    scores = []\n",
    "    for i_episode in range(1, n_training_episodes + 1):\n",
    "        saved_log_probs = []\n",
    "        rewards = []\n",
    "        env.reset()\n",
    "        \n",
    "        for t in range(max_t):\n",
    "            state = env.state\n",
    "            action, log_prob = policy.act(state)\n",
    "            saved_log_probs.append(log_prob)\n",
    "            state, reward, done, truncated , _ = env.step(action)\n",
    "            rewards.append(reward)\n",
    "            if done or truncated:\n",
    "                break\n",
    "        scores_deque.append(sum(rewards))\n",
    "        scores.append(sum(rewards))\n",
    "\n",
    "        returns = deque(maxlen=max_t)\n",
    "        n_steps = len(rewards)\n",
    "        # Compute the discounted returns at each timestep,\n",
    "        # as\n",
    "        #      the sum of the gamma-discounted return at time t (G_t) + the reward at time t\n",
    "        #\n",
    "        # In O(N) time, where N is the number of time steps\n",
    "        # (this definition of the discounted return G_t follows the definition of this quantity\n",
    "        # shown at page 44 of Sutton&Barto 2017 2nd draft)\n",
    "        # G_t = r_(t+1) + r_(t+2) + ...\n",
    "\n",
    "        # Given this formulation, the returns at each timestep t can be computed\n",
    "        # by re-using the computed future returns G_(t+1) to compute the current return G_t\n",
    "        # G_t = r_(t+1) + gamma*G_(t+1)\n",
    "        # G_(t-1) = r_t + gamma* G_t\n",
    "        # (this follows a dynamic programming approach, with which we memorize solutions in order\n",
    "        # to avoid computing them multiple times)\n",
    "\n",
    "        # This is correct since the above is equivalent to (see also page 46 of Sutton&Barto 2017 2nd draft)\n",
    "        # G_(t-1) = r_t + gamma*r_(t+1) + gamma*gamma*r_(t+2) + ...\n",
    "\n",
    "        ## Given the above, we calculate the returns at timestep t as:\n",
    "        #               gamma[t] * return[t] + reward[t]\n",
    "        #\n",
    "        ## We compute this starting from the last timestep to the first, in order\n",
    "        ## to employ the formula presented above and avoid redundant computations that would be needed\n",
    "        ## if we were to do it from first to last.\n",
    "\n",
    "        ## Hence, the queue \"returns\" will hold the returns in chronological order, from t=0 to t=n_steps\n",
    "        ## thanks to the appendleft() function which allows to append to the position 0 in constant time O(1)\n",
    "        ## a normal python list would instead require O(N) to do this.\n",
    "        for t in range(n_steps)[::-1]:\n",
    "            disc_return_t = returns[0] if len(returns) > 0 else 0\n",
    "            returns.appendleft(gamma * disc_return_t + rewards[t])\n",
    "\n",
    "        ## standardization of the returns is employed to make training more stable\n",
    "        eps = np.finfo(np.float32).eps.item()\n",
    "        ## eps is the smallest representable float, which is\n",
    "        # added to the standard deviation of the returns to avoid numerical instabilities\n",
    "        returns = torch.tensor(returns)\n",
    "        returns = (returns - returns.mean()) / (returns.std() + eps)\n",
    "\n",
    "        # Line 7:\n",
    "        policy_loss = 0\n",
    "        for log_prob, disc_return in zip(saved_log_probs, returns):\n",
    "            policy_loss += (-log_prob * disc_return)\n",
    "\n",
    "        # Line 8: PyTorch prefers gradient descent\n",
    "        optimizer.zero_grad()\n",
    "        policy_loss.backward()\n",
    "        optimizer.step()\n",
    "\n",
    "        if i_episode % print_every == 0:\n",
    "            print(\"Episode {}\\tAverage Score: {:.2f}\".format(i_episode, np.mean(scores_deque)))\n",
    "\n",
    "    return scores"
   ]
  },
  {
   "cell_type": "code",
   "execution_count": 220,
   "metadata": {},
   "outputs": [],
   "source": [
    "cartpole_hyperparameters = {\n",
    "    \"n_training_episodes\": 1000,\n",
    "    \"n_evaluation_episodes\": 10,\n",
    "    \"max_t\": 1000,\n",
    "    \"gamma\": 1.0,\n",
    "    \"lr\": 1e-3,\n",
    "    \"env_id\": env,\n",
    "    \"state_space\": 4,\n",
    "    \"action_space\": 2,\n",
    "}"
   ]
  },
  {
   "cell_type": "code",
   "execution_count": 221,
   "metadata": {},
   "outputs": [],
   "source": [
    "# Create policy and place it to the device\n",
    "cartpole_hyperparameters = {\n",
    "    \"n_training_episodes\": 1000,\n",
    "    \"n_evaluation_episodes\": 10,\n",
    "    \"max_t\": 1000,\n",
    "    \"gamma\": 1.0,\n",
    "    \"lr\": 1e-3,\n",
    "    \"env_id\": env,\n",
    "    \"state_space\": 4,\n",
    "    \"action_space\": 2,\n",
    "}\n",
    "cartpole_policy = QPolicy(\n",
    "    cartpole_hyperparameters[\"state_space\"],\n",
    "    cartpole_hyperparameters[\"action_space\"],\n",
    ")\n",
    "cartpole_optimizer = optim.Adam(cartpole_policy.net.parameters(), lr=cartpole_hyperparameters[\"lr\"])"
   ]
  },
  {
   "cell_type": "code",
   "execution_count": 222,
   "metadata": {},
   "outputs": [
    {
     "name": "stdout",
     "output_type": "stream",
     "text": [
      "Episode 10\tAverage Score: 14.30\n",
      "Episode 20\tAverage Score: 18.05\n",
      "Episode 30\tAverage Score: 17.57\n",
      "Episode 40\tAverage Score: 17.57\n",
      "Episode 50\tAverage Score: 18.12\n",
      "Episode 60\tAverage Score: 19.02\n",
      "Episode 70\tAverage Score: 18.79\n",
      "Episode 80\tAverage Score: 18.89\n",
      "Episode 90\tAverage Score: 19.89\n",
      "Episode 100\tAverage Score: 20.74\n",
      "Episode 110\tAverage Score: 21.89\n",
      "Episode 120\tAverage Score: 22.75\n",
      "Episode 130\tAverage Score: 23.26\n",
      "Episode 140\tAverage Score: 23.98\n",
      "Episode 150\tAverage Score: 24.59\n",
      "Episode 160\tAverage Score: 24.59\n",
      "Episode 170\tAverage Score: 25.77\n",
      "Episode 180\tAverage Score: 27.25\n",
      "Episode 190\tAverage Score: 26.72\n",
      "Episode 200\tAverage Score: 26.69\n",
      "Episode 210\tAverage Score: 27.82\n",
      "Episode 220\tAverage Score: 29.15\n",
      "Episode 230\tAverage Score: 29.75\n",
      "Episode 240\tAverage Score: 30.23\n",
      "Episode 250\tAverage Score: 32.06\n",
      "Episode 260\tAverage Score: 34.59\n",
      "Episode 270\tAverage Score: 36.39\n",
      "Episode 280\tAverage Score: 36.32\n",
      "Episode 290\tAverage Score: 38.71\n",
      "Episode 300\tAverage Score: 43.08\n",
      "Episode 310\tAverage Score: 44.78\n",
      "Episode 320\tAverage Score: 49.93\n",
      "Episode 330\tAverage Score: 55.96\n",
      "Episode 340\tAverage Score: 59.65\n",
      "Episode 350\tAverage Score: 65.83\n",
      "Episode 360\tAverage Score: 74.65\n",
      "Episode 370\tAverage Score: 82.60\n",
      "Episode 380\tAverage Score: 92.17\n",
      "Episode 390\tAverage Score: 99.54\n",
      "Episode 400\tAverage Score: 107.26\n",
      "Episode 410\tAverage Score: 116.65\n",
      "Episode 420\tAverage Score: 120.24\n",
      "Episode 430\tAverage Score: 123.59\n",
      "Episode 440\tAverage Score: 130.29\n",
      "Episode 450\tAverage Score: 132.75\n",
      "Episode 460\tAverage Score: 136.21\n",
      "Episode 470\tAverage Score: 140.96\n",
      "Episode 480\tAverage Score: 144.67\n",
      "Episode 490\tAverage Score: 150.92\n",
      "Episode 500\tAverage Score: 153.13\n",
      "Episode 510\tAverage Score: 151.88\n",
      "Episode 520\tAverage Score: 155.78\n",
      "Episode 530\tAverage Score: 159.16\n",
      "Episode 540\tAverage Score: 159.69\n",
      "Episode 550\tAverage Score: 160.06\n",
      "Episode 560\tAverage Score: 159.02\n",
      "Episode 570\tAverage Score: 157.98\n",
      "Episode 580\tAverage Score: 160.91\n",
      "Episode 590\tAverage Score: 161.40\n",
      "Episode 600\tAverage Score: 163.48\n",
      "Episode 610\tAverage Score: 168.59\n",
      "Episode 620\tAverage Score: 169.41\n",
      "Episode 630\tAverage Score: 170.33\n",
      "Episode 640\tAverage Score: 175.09\n",
      "Episode 650\tAverage Score: 180.18\n",
      "Episode 660\tAverage Score: 182.93\n",
      "Episode 670\tAverage Score: 185.09\n",
      "Episode 680\tAverage Score: 184.59\n",
      "Episode 690\tAverage Score: 183.40\n",
      "Episode 700\tAverage Score: 182.16\n",
      "Episode 710\tAverage Score: 181.81\n",
      "Episode 720\tAverage Score: 182.69\n",
      "Episode 730\tAverage Score: 184.59\n",
      "Episode 740\tAverage Score: 185.04\n",
      "Episode 750\tAverage Score: 184.24\n",
      "Episode 760\tAverage Score: 184.08\n",
      "Episode 770\tAverage Score: 183.27\n",
      "Episode 780\tAverage Score: 180.40\n",
      "Episode 790\tAverage Score: 181.42\n",
      "Episode 800\tAverage Score: 181.97\n",
      "Episode 810\tAverage Score: 182.85\n",
      "Episode 820\tAverage Score: 182.55\n",
      "Episode 830\tAverage Score: 183.97\n",
      "Episode 840\tAverage Score: 183.85\n",
      "Episode 850\tAverage Score: 185.33\n",
      "Episode 860\tAverage Score: 185.99\n",
      "Episode 870\tAverage Score: 187.74\n",
      "Episode 880\tAverage Score: 190.36\n",
      "Episode 890\tAverage Score: 191.51\n",
      "Episode 900\tAverage Score: 193.01\n",
      "Episode 910\tAverage Score: 193.82\n",
      "Episode 920\tAverage Score: 193.54\n",
      "Episode 930\tAverage Score: 193.77\n",
      "Episode 940\tAverage Score: 192.62\n",
      "Episode 950\tAverage Score: 191.13\n",
      "Episode 960\tAverage Score: 190.34\n",
      "Episode 970\tAverage Score: 189.15\n",
      "Episode 980\tAverage Score: 190.03\n",
      "Episode 990\tAverage Score: 190.24\n",
      "Episode 1000\tAverage Score: 190.14\n"
     ]
    }
   ],
   "source": [
    "scores = reinforce(\n",
    "    cartpole_policy,\n",
    "    cartpole_optimizer,\n",
    "    cartpole_hyperparameters[\"n_training_episodes\"],\n",
    "    cartpole_hyperparameters[\"max_t\"],\n",
    "    cartpole_hyperparameters[\"gamma\"],\n",
    "    10,\n",
    ")"
   ]
  },
  {
   "cell_type": "code",
   "execution_count": 224,
   "metadata": {},
   "outputs": [
    {
     "name": "stderr",
     "output_type": "stream",
     "text": [
      "c:\\Users\\monce\\AppData\\Local\\Programs\\Python\\Python311\\Lib\\site-packages\\gymnasium\\core.py:311: UserWarning: \u001b[33mWARN: env.state to get variables from other wrappers is deprecated and will be removed in v1.0, to get this variable you can do `env.unwrapped.state` for environment variables or `env.get_wrapper_attr('state')` that will search the reminding wrappers.\u001b[0m\n",
      "  logger.warn(\n",
      "MovieWriter imagemagick unavailable; using Pillow instead.\n"
     ]
    },
    {
     "data": {
      "image/png": "[encoded data removed]",
      "text/plain": [
       "<Figure size 600x400 with 1 Axes>"
      ]
     },
     "metadata": {},
     "output_type": "display_data"
    }
   ],
   "source": [
    "frames = []\n",
    "for i in range(500):\n",
    "    # Display the current state of the environment\n",
    "    frames.append(env.render())\n",
    "    # Choose a random action from the action space\n",
    "    action = action, log_prob = cartpole_policy.act(env.state)\n",
    "    \n",
    "    # Take the chosen action and observe the next state, reward, and termination status\n",
    "    state, reward, terminated, truncated, info = env.step(action)\n",
    "    \n",
    "    # If the episode is terminated or truncated, reset the environment\n",
    "    if terminated or truncated:\n",
    "        state, info = env.reset()\n",
    "\n",
    "# Close the environment after exploration\n",
    "save_frames_as_gif(frames)\n",
    "env.close()"
   ]
  },
  {
   "cell_type": "code",
   "execution_count": 1,
   "metadata": {},
   "outputs": [
    {
     "ename": "NameError",
     "evalue": "name 'env' is not defined",
     "output_type": "error",
     "traceback": [
      "\u001b[1;31m---------------------------------------------------------------------------\u001b[0m",
      "\u001b[1;31mNameError\u001b[0m                                 Traceback (most recent call last)",
      "Cell \u001b[1;32mIn[1], line 1\u001b[0m\n\u001b[1;32m----> 1\u001b[0m \u001b[43menv\u001b[49m\u001b[38;5;241m.\u001b[39mreset()\n",
      "\u001b[1;31mNameError\u001b[0m: name 'env' is not defined"
     ]
    }
   ],
   "source": [
    "env.reset()"
   ]
  }
 ],
 "metadata": {
  "kernelspec": {
   "display_name": "Python 3",
   "language": "python",
   "name": "python3"
  },
  "language_info": {
   "codemirror_mode": {
    "name": "ipython",
    "version": 3
   },
   "file_extension": ".py",
   "mimetype": "text/x-python",
   "name": "python",
   "nbconvert_exporter": "python",
   "pygments_lexer": "ipython3",
   "version": "3.11.3"
  }
 },
 "nbformat": 4,
 "nbformat_minor": 2
}
