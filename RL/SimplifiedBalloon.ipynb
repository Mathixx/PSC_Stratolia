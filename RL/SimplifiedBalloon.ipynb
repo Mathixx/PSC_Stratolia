{
 "cells": [
  {
   "cell_type": "markdown",
   "metadata": {},
   "source": [
    "# 1. Import dependencies"
   ]
  },
  {
   "cell_type": "code",
   "execution_count": 7,
   "metadata": {},
   "outputs": [
    {
     "ename": "FileNotFoundError",
     "evalue": "[Errno 2] No such file or directory: 'objet_wind_data_2020.pickle'",
     "output_type": "error",
     "traceback": [
      "\u001b[0;31m---------------------------------------------------------------------------\u001b[0m",
      "\u001b[0;31mFileNotFoundError\u001b[0m                         Traceback (most recent call last)",
      "Cell \u001b[0;32mIn[7], line 8\u001b[0m\n\u001b[1;32m      6\u001b[0m sys\u001b[38;5;241m.\u001b[39mpath\u001b[38;5;241m.\u001b[39mappend(\u001b[38;5;124m'\u001b[39m\u001b[38;5;124m/Users/mathiasperez/Documents/GitHub/PSC_Stratolia/Algo Naif\u001b[39m\u001b[38;5;124m'\u001b[39m)\n\u001b[1;32m      7\u001b[0m sys\u001b[38;5;241m.\u001b[39mpath\u001b[38;5;241m.\u001b[39mappend(\u001b[38;5;124m'\u001b[39m\u001b[38;5;124m/Users/mathiasperez/Documents/GitHub/PSC_Stratolia\u001b[39m\u001b[38;5;124m'\u001b[39m)\n\u001b[0;32m----> 8\u001b[0m \u001b[38;5;28;01mfrom\u001b[39;00m \u001b[38;5;21;01mdata_vent\u001b[39;00m \u001b[38;5;28;01mimport\u001b[39;00m ventU_ventV, ventU_ventV_interpolate, distance_destination , convPression_altitude\n\u001b[1;32m      9\u001b[0m \u001b[38;5;28;01mimport\u001b[39;00m \u001b[38;5;21;01mNode\u001b[39;00m\n\u001b[1;32m     10\u001b[0m \u001b[38;5;28;01mimport\u001b[39;00m \u001b[38;5;21;01mRL\u001b[39;00m\u001b[38;5;21;01m.\u001b[39;00m\u001b[38;5;21;01mBalloon\u001b[39;00m \u001b[38;5;28;01mas\u001b[39;00m \u001b[38;5;21;01mBalloon\u001b[39;00m\n",
      "File \u001b[0;32m~/Documents/GitHub/PSC_Stratolia/Algo Naif/data_vent.py:26\u001b[0m\n\u001b[1;32m     18\u001b[0m \u001b[38;5;28;01mfrom\u001b[39;00m \u001b[38;5;21;01mNode\u001b[39;00m \u001b[38;5;28;01mimport\u001b[39;00m \u001b[38;5;241m*\u001b[39m\n\u001b[1;32m     21\u001b[0m \u001b[38;5;66;03m############################\u001b[39;00m\n\u001b[1;32m     22\u001b[0m \u001b[38;5;66;03m## EXTRACTION DES DONNÉES ##\u001b[39;00m\n\u001b[1;32m     23\u001b[0m \u001b[38;5;66;03m############################\u001b[39;00m\n\u001b[0;32m---> 26\u001b[0m \u001b[38;5;28;01mwith\u001b[39;00m \u001b[38;5;28;43mopen\u001b[39;49m\u001b[43m(\u001b[49m\u001b[38;5;124;43m\"\u001b[39;49m\u001b[38;5;124;43mobjet_wind_data_2020.pickle\u001b[39;49m\u001b[38;5;124;43m\"\u001b[39;49m\u001b[43m,\u001b[49m\u001b[43m \u001b[49m\u001b[38;5;124;43m\"\u001b[39;49m\u001b[38;5;124;43mrb\u001b[39;49m\u001b[38;5;124;43m\"\u001b[39;49m\u001b[43m)\u001b[49m \u001b[38;5;28;01mas\u001b[39;00m f:\n\u001b[1;32m     27\u001b[0m    wind_data \u001b[38;5;241m=\u001b[39m pickle\u001b[38;5;241m.\u001b[39mload(f)\n\u001b[1;32m     31\u001b[0m \u001b[38;5;66;03m##################################################\u001b[39;00m\n\u001b[1;32m     32\u001b[0m \u001b[38;5;66;03m## FONCTIONS RELATIVES A L'EXTRACTION DES VENTS ##\u001b[39;00m\n\u001b[1;32m     33\u001b[0m \u001b[38;5;66;03m##################################################\u001b[39;00m\n",
      "\u001b[0;31mFileNotFoundError\u001b[0m: [Errno 2] No such file or directory: 'objet_wind_data_2020.pickle'"
     ]
    }
   ],
   "source": [
    "#Modules en lien avec Gym\n",
    "import gymnasium as gym\n",
    "\n",
    "#Modules utiles\n",
    "import sys\n",
    "sys.path.append('/Users/mathiasperez/Documents/GitHub/PSC_Stratolia/Algo Naif')\n",
    "sys.path.append('/Users/mathiasperez/Documents/GitHub/PSC_Stratolia')\n",
    "from data_vent import ventU_ventV, ventU_ventV_interpolate, distance_destination , convPression_altitude\n",
    "import Node\n",
    "import RL.Balloon as Balloon\n",
    "\n",
    "import os\n",
    "import numpy as np\n",
    "import random\n",
    "import os\n",
    "import datetime as dt \n",
    "import time\n",
    "import math\n",
    "\n",
    "\"\"\"\n",
    "#Modules en lien avec Stable_baseline3\n",
    "#IMPORT THE TYPE OF AGENT U WANT TO USE\n",
    "from stable_baselines3.common.vec_env import DummyVecEnv\n",
    "from stable_baselines3.common.evaluation import evaluate_policy\n",
    "\"\"\""
   ]
  },
  {
   "cell_type": "markdown",
   "metadata": {},
   "source": [
    "# 1.bis Import the wind-datas"
   ]
  },
  {
   "cell_type": "code",
   "execution_count": 3,
   "metadata": {},
   "outputs": [
    {
     "ename": "FileNotFoundError",
     "evalue": "[Errno 2] No such file or directory: 'objet_wind_data_2020.pickle'",
     "output_type": "error",
     "traceback": [
      "\u001b[0;31m---------------------------------------------------------------------------\u001b[0m",
      "\u001b[0;31mFileNotFoundError\u001b[0m                         Traceback (most recent call last)",
      "Cell \u001b[0;32mIn[3], line 2\u001b[0m\n\u001b[1;32m      1\u001b[0m \u001b[38;5;28;01mimport\u001b[39;00m \u001b[38;5;21;01mpickle\u001b[39;00m\n\u001b[0;32m----> 2\u001b[0m \u001b[38;5;28;01mwith\u001b[39;00m \u001b[38;5;28;43mopen\u001b[39;49m\u001b[43m(\u001b[49m\u001b[38;5;124;43m\"\u001b[39;49m\u001b[38;5;124;43mobjet_wind_data_2020.pickle\u001b[39;49m\u001b[38;5;124;43m\"\u001b[39;49m\u001b[43m,\u001b[49m\u001b[43m \u001b[49m\u001b[38;5;124;43m\"\u001b[39;49m\u001b[38;5;124;43mrb\u001b[39;49m\u001b[38;5;124;43m\"\u001b[39;49m\u001b[43m)\u001b[49m \u001b[38;5;28;01mas\u001b[39;00m f:\n\u001b[1;32m      3\u001b[0m     wind_data \u001b[38;5;241m=\u001b[39m pickle\u001b[38;5;241m.\u001b[39mload(f)\n\u001b[1;32m      5\u001b[0m \u001b[38;5;124;03m\"\"\"\u001b[39;00m\n\u001b[1;32m      6\u001b[0m \u001b[38;5;124;03mLe tableau va de :\u001b[39;00m\n\u001b[1;32m      7\u001b[0m \u001b[38;5;124;03mdatetime.datetime(2020, 1, 1, 0, 0) à datetime.datetime(2021, 1, 1, 0, 0)\u001b[39;00m\n\u001b[1;32m      8\u001b[0m \u001b[38;5;124;03m\"\"\"\u001b[39;00m\n",
      "File \u001b[0;32m~/Library/Python/3.12/lib/python/site-packages/IPython/core/interactiveshell.py:310\u001b[0m, in \u001b[0;36m_modified_open\u001b[0;34m(file, *args, **kwargs)\u001b[0m\n\u001b[1;32m    303\u001b[0m \u001b[38;5;28;01mif\u001b[39;00m file \u001b[38;5;129;01min\u001b[39;00m {\u001b[38;5;241m0\u001b[39m, \u001b[38;5;241m1\u001b[39m, \u001b[38;5;241m2\u001b[39m}:\n\u001b[1;32m    304\u001b[0m     \u001b[38;5;28;01mraise\u001b[39;00m \u001b[38;5;167;01mValueError\u001b[39;00m(\n\u001b[1;32m    305\u001b[0m         \u001b[38;5;124mf\u001b[39m\u001b[38;5;124m\"\u001b[39m\u001b[38;5;124mIPython won\u001b[39m\u001b[38;5;124m'\u001b[39m\u001b[38;5;124mt let you open fd=\u001b[39m\u001b[38;5;132;01m{\u001b[39;00mfile\u001b[38;5;132;01m}\u001b[39;00m\u001b[38;5;124m by default \u001b[39m\u001b[38;5;124m\"\u001b[39m\n\u001b[1;32m    306\u001b[0m         \u001b[38;5;124m\"\u001b[39m\u001b[38;5;124mas it is likely to crash IPython. If you know what you are doing, \u001b[39m\u001b[38;5;124m\"\u001b[39m\n\u001b[1;32m    307\u001b[0m         \u001b[38;5;124m\"\u001b[39m\u001b[38;5;124myou can use builtins\u001b[39m\u001b[38;5;124m'\u001b[39m\u001b[38;5;124m open.\u001b[39m\u001b[38;5;124m\"\u001b[39m\n\u001b[1;32m    308\u001b[0m     )\n\u001b[0;32m--> 310\u001b[0m \u001b[38;5;28;01mreturn\u001b[39;00m \u001b[43mio_open\u001b[49m\u001b[43m(\u001b[49m\u001b[43mfile\u001b[49m\u001b[43m,\u001b[49m\u001b[43m \u001b[49m\u001b[38;5;241;43m*\u001b[39;49m\u001b[43margs\u001b[49m\u001b[43m,\u001b[49m\u001b[43m \u001b[49m\u001b[38;5;241;43m*\u001b[39;49m\u001b[38;5;241;43m*\u001b[39;49m\u001b[43mkwargs\u001b[49m\u001b[43m)\u001b[49m\n",
      "\u001b[0;31mFileNotFoundError\u001b[0m: [Errno 2] No such file or directory: 'objet_wind_data_2020.pickle'"
     ]
    }
   ],
   "source": [
    "import pickle\n",
    "with open(\"objet_wind_data_2020.pickle\", \"rb\") as f:\n",
    "    wind_data = pickle.load(f)\n",
    "\n",
    "\"\"\"\n",
    "Le tableau va de :\n",
    "datetime.datetime(2020, 1, 1, 0, 0) à datetime.datetime(2021, 1, 1, 0, 0)\n",
    "\"\"\""
   ]
  },
  {
   "cell_type": "code",
   "execution_count": 1,
   "metadata": {},
   "outputs": [
    {
     "ename": "NameError",
     "evalue": "name 'wind_data' is not defined",
     "output_type": "error",
     "traceback": [
      "\u001b[0;31m---------------------------------------------------------------------------\u001b[0m",
      "\u001b[0;31mNameError\u001b[0m                                 Traceback (most recent call last)",
      "Cell \u001b[0;32mIn[1], line 1\u001b[0m\n\u001b[0;32m----> 1\u001b[0m \u001b[38;5;28mprint\u001b[39m((\u001b[43mwind_data\u001b[49m[\u001b[38;5;124m'\u001b[39m\u001b[38;5;124mmetadata\u001b[39m\u001b[38;5;124m'\u001b[39m][\u001b[38;5;124m'\u001b[39m\u001b[38;5;124mgrid\u001b[39m\u001b[38;5;124m'\u001b[39m]))\n",
      "\u001b[0;31mNameError\u001b[0m: name 'wind_data' is not defined"
     ]
    }
   ],
   "source": [
    "print((wind_data['metadata']['grid']))"
   ]
  },
  {
   "cell_type": "markdown",
   "metadata": {},
   "source": [
    "# 1.bisbis Create needed functions"
   ]
  },
  {
   "cell_type": "code",
   "execution_count": 5,
   "metadata": {},
   "outputs": [],
   "source": [
    "\"\"\"\n",
    "    INPUT : start_date and end_date -> datetime objects representing the start and end dates\n",
    "    OUTPUT : A random date bewtween the two inputs and an hour  that is a multiple of 6 (i.e., 0, 6, 12, or 18)\n",
    "\"\"\"\n",
    "def generate_random_date(start_date, end_date):\n",
    "    time_between_dates = end_date - start_date\n",
    "    days_between_dates = time_between_dates.days\n",
    "    random_number_of_days = random.randrange(days_between_dates)\n",
    "    random_date = start_date + dt.timedelta(days=random_number_of_days)\n",
    "    hr  = random.randrange(0, 24, 6)\n",
    "    random_time = dt.time(hour=hr, minute=0, second=0, microsecond=0, tzinfo=None, fold=0)\n",
    "    return dt.datetime.combine(random_date, random_time)\n"
   ]
  },
  {
   "cell_type": "markdown",
   "metadata": {},
   "source": [
    "# 2. Create the environnement"
   ]
  },
  {
   "cell_type": "code",
   "execution_count": 8,
   "metadata": {},
   "outputs": [],
   "source": [
    "class BalloonEnv(gym.Env):\n",
    "    \"\"\"\n",
    "    ## Description\n",
    "    This environment is a complete representation of our problem.\n",
    "\n",
    "    The destination is always at variable coordinates (random opr not).\n",
    "    So are the starting coordinatesv (probably)\n",
    "\n",
    "\n",
    "    ## Action Space\n",
    "    There are three discrete actions available:\n",
    "    - 0: do nothing et let the wind lead your movement\n",
    "    - 1: go up in altitude (17 heights allowed)\n",
    "    - 2: go down in altitude (17 heights allowed)\n",
    "\n",
    "    ## Observation Space\n",
    "    The state a tuple consisting of different parts : \n",
    "        First you have the time accessible using the datetime module\n",
    "        Then 2 Boxes (simple array) for the longitude and the latitude\n",
    "        Finally one discrete part consisting of the 71 different heights\n",
    "\n",
    "    ## Rewards\n",
    "    After every step a reward is granted. The total reward of an episode is the\n",
    "    sum of the rewards for all the steps within that episode.\n",
    "\n",
    "    For each step, the reward:\n",
    "    (- is increased/decreased the closer/further the ballon is to the goal point.)\n",
    "    - is increased/decreased the slower/faster the lander is moving.\n",
    "    (- is increased/decreased the less/more energy from the battery is used in the round)\n",
    "\n",
    "    The episode receive an additional reward of +100 or -100 points for finding the goal or not respectively.\n",
    "\n",
    "\n",
    "\n",
    "    ## Starting State\n",
    "    The lander starts at a random poinf of the globe (time can be random as well)\n",
    "\n",
    "    ## Episode Termination\n",
    "    The episode finishes if:\n",
    "    1) the balloon gets too far away from the goal;\n",
    "    2) the balloon goes near enough of the goal\n",
    "\n",
    "    ## Arguments\n",
    "\n",
    "     * `goal_long` and 'goal_lat' for the position of our goal destination (can be fixed for specific results)\n",
    "     * 'initial_time' defines the starting time of our episode (=> consequence on the winds)\n",
    "\n",
    "    * `precision' defines how close the balloon must be to the target before being considered as having reached it.\n",
    "\n",
    "    * 'limite_eloignement' defines how far the ballon must be from the target to consider the episode to be a failure.\n",
    "\n",
    "    * `temps_exploration` defines how long we let the ballon follow the winds when action : 0 is considered\n",
    "\n",
    "    ## Version History\n",
    "    - v0: Initial version\n",
    "\n",
    "    ## Current bugs\n",
    "\n",
    "    ## Credits\n",
    "    Mathias PEREZ et ses sbires\n",
    "    \"\"\"\n",
    "    def __init__(self):\n",
    "        #super(Balloon, self).__init__()\n",
    "        self.step : int\n",
    "\n",
    "        self.basStrat : Balloon\n",
    "\n",
    "        self.initial_time : dt.datetime\n",
    "\n",
    "        self.limite_eloignement = 10000 #en m\n",
    "        self.precision = 1000 #en m\n",
    "\n",
    "        self.temps_exploration = 131 #secondes\n",
    "\n",
    "        self.trajectoire : list\n",
    "        \n",
    "        # Define the action space\n",
    "        self.action_space = gym.spaces.Discrete(3)  \n",
    "        \"\"\"\n",
    "        Action 0 : You do nothing and let the balloon follow the wind for temps_exploration seconds\n",
    "        Action 1 : You push the balloon upwards (goes up in altitude) (instanneous action)\n",
    "        Action 2 : You push the balloon downwards (goes down in altitude) (instanneous action)\n",
    "        \"\"\"\n",
    "        \n",
    "        taille_tab_vent = 13\n",
    "\n",
    "        # Define the observation space\n",
    "        #firt we have position of the balloon, then the goal positon then the local wind data\n",
    "        low_obs = np.array([0, -90, 0, -90] + [-100, -50] * (taille_tab_vent))\n",
    "        high_obs = np.array([360,90,360,+90] + [100, 50] * (taille_tab_vent))\n",
    "        self.observation_space = gym.spaces.Tuple(( \n",
    "            gym.spaces.Box(low=low_obs, high=high_obs, dtype=np.float32), \n",
    "            gym.spaces.Discrete(17), #Altitude (17 different positions : no need for more precisions)\n",
    "            ))\n",
    "     \n",
    "    def reset(self, tab_vent : dict):\n",
    "        # Reset the environment to its initial state\n",
    "        # Resetting the ballon to a random initial position\n",
    "        #Ici on pourrait randomiser les goal et les positions de depart +temps\n",
    "        self.initial_time = generate_random_date(dt.datetime(2020, 1, 1, 0, 0), dt.datetime(2021, 1, 1, 0, 0))\n",
    "        self.step = 0\n",
    "        \n",
    "        goal_long, goal_lat = random.uniform(0,360), random.uniform(-90,90)\n",
    "        depart_long, depart_lat = random.uniform(0,360), random.uniform(-90,90)\n",
    "        while distance_destination((self.goal_long, self.goal_lat), depart_long, depart_lat) > 10000000 :\n",
    "            goal_lat = random.uniform(-90,90)\n",
    "            goal_long = random.uniform(0,360)\n",
    "        \n",
    "        self.basStrat = Balloon(depart_long, depart_lat, self.initial_time, 16, None, precision = 1000)\n",
    "        self.trajectoire = []\n",
    "        \n",
    "        tab1 = [depart_long, depart_lat, goal_long, goal_lat]\n",
    "        tab2inter = self.basStrat.get_winds(tab_vent)\n",
    "        tab2 = []\n",
    "        for i in range(len(tab2inter)):\n",
    "            tab2.append(tab2inter[i][0])\n",
    "            tab2.append(tab2inter[i][1])\n",
    "\n",
    "        self.state = (\n",
    "                      np.concatenate(tab1, tab2),\n",
    "                      16\n",
    "                      )\n",
    "        return self.state, {}\n",
    "    \n",
    "    def get_terminated(self, state):\n",
    "        long, lat = state[0][0], state[0][1]\n",
    "        if distance_destination((self.goal_long, self.goal_lat), long, lat) < self.limite_eloignement :\n",
    "            return True\n",
    "        return False\n",
    "    \n",
    "    def get_reward(self, state):\n",
    "        \"\"\"\n",
    "        - fonction qui donne récompense en fonction de la distance  a l'objectif par rapport a la distance initale\n",
    "        - ajoute un boolean si l'objectif a été atteint ou bien si on en est suffisamment proche\n",
    "        - d'autres trucs a faire surement\n",
    "        \"\"\"\n",
    "        eloignement = distance_destination((self.state[0][2], self.state[0][3]), state[0][0], state[0][1])\n",
    "        time  =  self.basStrat.t.total_seconds() - self.initial_time.total_seconds()\n",
    "        if (eloignement <= self.limite_eloignement) :\n",
    "            reward =  1000 + math.log(1/time) - self.step\n",
    "        else :\n",
    "            reward = math.exp((self.limite_eloignement/eloignement)) +  math.log(1/time) - self.step\n",
    "        return reward\n",
    "\n",
    "    #### RENDER A RAJOUTER ICI\n",
    "    def step(self, action):\n",
    "        self.step += 1\n",
    "        temps = (self.basStrat.t-dt.datetime(2020, 1, 1, 0, 0)).total_seconds()\n",
    "        self.trajectoire.append([self.basStrat.long,self.basStrat.lat, convPression_altitude(self.basStrat.p), temps ])\n",
    "        # Take a step in the environment based on the given action\n",
    "        if action == 0:\n",
    "            #You decide to follow the wind flow :\n",
    "            done = self.basStrat.follow_wind(self.temps_exploration, self.state[0][2], self.state[0][3], wind_data)\n",
    "            self.state[0][0], self.state[0][1] = self.basStrat.long, self.basStrat.lat\n",
    "\n",
    "        elif action == 1:\n",
    "            #You go up 1 case in altitude so u go down in pressure\n",
    "            done  = self.basStrat.up(self.temps_exploration,self.state[0][2], self.state[0][3], wind_data)\n",
    "            self.state[0][0], self.state[0][1] = self.basStrat.long, self.basStrat.lat #au cas ou on soit en limite haute\n",
    "        else :\n",
    "            #You go down one case in altitudeso u go up in pressure\n",
    "            done  = self.basStrat.down(self.temps_exploration,self.state[0][2], self.state[0][3], wind_data)\n",
    "            self.state[0][0], self.state[0][1] = self.basStrat.long, self.basStrat.lat #au cas ou on soit en limite basse\n",
    "\n",
    "        # Calculate the reward\n",
    "        reward = get_reward(self.state)\n",
    "        \n",
    "        # Check if the episode has ended\n",
    "        if not done:\n",
    "            done = get_terminated(self.state)\n",
    "        \n",
    "        # Check if the episode has been truncated\n",
    "        truncated = False\n",
    "        \n",
    "        # Return the observation, reward, done flag, truncated flag, and info\n",
    "        return self.state, reward, done, truncated, {}\n",
    "    \n",
    "    def render(self, mode='human'):\n",
    "        pass\n",
    "\n",
    "\n",
    "    \n"
   ]
  },
  {
   "cell_type": "code",
   "execution_count": 9,
   "metadata": {},
   "outputs": [
    {
     "data": {
      "text/plain": [
       "Tuple(Box([   0.  -90.    0.  -90. -100.  -50. -100.  -50. -100.  -50. -100.  -50.\n",
       " -100.  -50. -100.  -50. -100.  -50. -100.  -50. -100.  -50. -100.  -50.\n",
       " -100.  -50. -100.  -50. -100.  -50.], [360.  90. 360.  90. 100.  50. 100.  50. 100.  50. 100.  50. 100.  50.\n",
       " 100.  50. 100.  50. 100.  50. 100.  50. 100.  50. 100.  50. 100.  50.\n",
       " 100.  50.], (30,), float32), Discrete(17))"
      ]
     },
     "execution_count": 9,
     "metadata": {},
     "output_type": "execute_result"
    }
   ],
   "source": [
    "env = BalloonEnv()\n",
    "\n",
    "env.observation_space"
   ]
  },
  {
   "cell_type": "markdown",
   "metadata": {},
   "source": []
  }
 ],
 "metadata": {
  "kernelspec": {
   "display_name": "base",
   "language": "python",
   "name": "python3"
  },
  "language_info": {
   "codemirror_mode": {
    "name": "ipython",
    "version": 3
   },
   "file_extension": ".py",
   "mimetype": "text/x-python",
   "name": "python",
   "nbconvert_exporter": "python",
   "pygments_lexer": "ipython3",
   "version": "3.12.2"
  }
 },
 "nbformat": 4,
 "nbformat_minor": 2
}
